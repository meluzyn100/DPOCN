{
 "cells": [
  {
   "cell_type": "code",
   "execution_count": 1,
   "metadata": {},
   "outputs": [],
   "source": [
    "import networkx as nx\n",
    "import numpy as np\n",
    "import matplotlib.pyplot as plt\n",
    "import seaborn as sns\n",
    "import random\n",
    "import matplotlib.animation\n",
    "import pandas as pd\n",
    "from IPython.display import HTML\n",
    "\n",
    "sns.set_style(\"darkgrid\")\n",
    "plt.rcParams[\"animation.html\"] = \"html5\""
   ]
  },
  {
   "cell_type": "code",
   "execution_count": 2,
   "metadata": {},
   "outputs": [],
   "source": [
    "class Graph(nx.Graph):\n",
    "    def random_graph(self, n, p):\n",
    "        eges_nr = np.sum([i for i in range(n)])\n",
    "        edges = np.array([[i, j] for i in range(n-1) for j in range(i+1,n) if np.random.uniform() < p ])\n",
    "        # all_edges = np.array([[i, j] for i in range(n-1) for j in range(i+1,n)])\n",
    "        # taked_edes = np.random.uniform(size=eges_nr)<p\n",
    "        # edges_to_add = all_edges[taked_edes]\n",
    "        self.add_nodes_from(range(n))\n",
    "        # self.add_edges_from(edges_to_add)\n",
    "        self.add_edges_from(edges)\n",
    "        return self\n",
    "    \n",
    "    def Watts_Strogatz_model(self, n , k, p):\n",
    "        \"\"\"Returns a Watts–Strogatz small-world graph.\n",
    "\n",
    "        Parameters\n",
    "        ----------\n",
    "        n : int\n",
    "            The number of nodes\n",
    "        k : int\n",
    "            Each node is joined with its `k` nearest neighbors in a ring\n",
    "            topology.\n",
    "        p : float\n",
    "            The probability of rewiring each edge\n",
    "        \"\"\"\n",
    "        if k>n:\n",
    "            raise ValueError(f\"The parameter 'k' = {k} is greater than parametr 'n' = {n}\")\n",
    "        elif k == n:\n",
    "            return nx.complete_graph(n)\n",
    "        # g = nx.Graph()\n",
    "        self.add_nodes_from(range(n))\n",
    "        \n",
    "        nodes = self.nodes\n",
    "        for i in range(n):\n",
    "            for j in range(1, k // 2 + 1):\n",
    "                self.add_edge(i, (i+j)%n)\n",
    "                \n",
    "        for node in nodes:\n",
    "            for neighbour in range(1, k // 2 + 1):\n",
    "                if np.random.uniform() < p:\n",
    "                    random_note = np.random.choice(nodes)\n",
    "                    while node == random_note or self.has_edge(node, random_note):\n",
    "                        random_note = np.random.choice(nodes)\n",
    "                    else:\n",
    "                        self.remove_edge(node, (node + neighbour)%n)\n",
    "                        self.add_edge(node, random_note)\n",
    "                else:\n",
    "                    pass\n",
    "        return self\n",
    "\n",
    "    def barabasi_albert_model(self, m0, n, iterations, inicial_praph = None):\n",
    "        if inicial_praph:\n",
    "            g = inicial_praph\n",
    "        else:\n",
    "            g = nx.complete_graph(m0)\n",
    "        degrees = {note:degre for note,degre in g.degree() }\n",
    "        for node in range(m0, m0 + iterations):\n",
    "            values = np.array(list(degrees.values()))\n",
    "            nodes_to_conect = np.random.choice(list(degrees.keys()), size = n, replace=False, p = values/sum(values))\n",
    "            degrees[node] = n\n",
    "            for node_to_conect in nodes_to_conect:\n",
    "                degrees[node_to_conect] += 1\n",
    "            g.add_edges_from([[node, i] for i in nodes_to_conect ])\n",
    "        return g\n",
    "        \n",
    "    def lattice_2d(m, n):\n",
    "        g = nx.grid_2d_graph(m, n)\n",
    "        return g"
   ]
  },
  {
   "cell_type": "code",
   "execution_count": 3,
   "metadata": {},
   "outputs": [],
   "source": [
    "def q_voter_model(graph, p, q, epsilon, MC_steps, graph_name = None, set_attributes = True, save = True) :\n",
    "    if set_attributes:\n",
    "        nx.set_node_attributes(graph, 1, \"state\")\n",
    "    nodes = graph.nodes()\n",
    "    N = len(nodes)\n",
    "    save_array_name = f\"graph_{graph_name} p_{p} q_{q} epsilon_{epsilon} MC_steps_{MC_steps}\"\n",
    "    save_array = np.zeros((MC_steps, N))\n",
    "\n",
    "    nodes_list = np.arange(0, N , 1)\n",
    "    attributes_dict = nx.get_node_attributes(graph, \"state\")\n",
    "    attributes_list = np.array(list(attributes_dict.values()))\n",
    "    neighbors_list = tuple(tuple(graph.neighbors(n)) for n in nodes)\n",
    "    for MC_step in range(MC_steps):\n",
    "        random_spinson = np.random.randint(0, N, N)\n",
    "        #independence case\n",
    "        independence = np.random.uniform(size=N) < p\n",
    "        independence_spinson = random_spinson[independence]\n",
    "        attributes_list[independence_spinson]  *= -1\n",
    "        #other case\n",
    "        not_independence_spinson = random_spinson[~independence]\n",
    "        random_neighbors = [random.choices(neighbors_list[n], k = q) for n in not_independence_spinson]\n",
    "        random_neighbors_state = attributes_list[random_neighbors]\n",
    "        same_state = np.abs(np.sum(random_neighbors_state, 1)) == q\n",
    "        attributes_list[not_independence_spinson[same_state]] *= -1\n",
    "        #otherwise\n",
    "        not_unanimous = not_independence_spinson[~same_state]\n",
    "        flip_not_unanimous = not_unanimous[np.random.uniform(size=len(not_unanimous)) < epsilon]\n",
    "        attributes_list[flip_not_unanimous] *= -1\n",
    "        save_array[MC_step] = attributes_list\n",
    "    if save:\n",
    "        np.save(f\"save_array/{save_array_name}\", save_array)\n",
    "    return save_array"
   ]
  },
  {
   "cell_type": "code",
   "execution_count": 15,
   "metadata": {},
   "outputs": [],
   "source": [
    "m0 = 2\n",
    "n = 2\n",
    "iterations  = 98\n",
    "BA = Graph().barabasi_albert_model(m0, n, iterations = iterations)"
   ]
  },
  {
   "cell_type": "code",
   "execution_count": 5,
   "metadata": {},
   "outputs": [],
   "source": [
    "p = 0.5\n",
    "q = 3\n",
    "MC_steps = 10**6\n",
    "epsilon = 0.1\n",
    "graph_name = \"BA\"\n",
    "save_array_name = f\"graph_{graph_name} p_{p} q_{q} epsilon_{epsilon} MC_steps_{MC_steps}\"\n",
    "q_voter_model(BA, p, q, epsilon, MC_steps, graph_name)"
   ]
  },
  {
   "cell_type": "code",
   "execution_count": 6,
   "metadata": {},
   "outputs": [
    {
     "data": {
      "text/plain": [
       "array([[-1.,  1., -1., ...,  1., -1., -1.],\n",
       "       [ 1.,  1.,  1., ...,  1.,  1., -1.],\n",
       "       [-1.,  1.,  1., ...,  1., -1., -1.],\n",
       "       ...,\n",
       "       [-1.,  1.,  1., ...,  1.,  1., -1.],\n",
       "       [ 1., -1.,  1., ...,  1., -1., -1.],\n",
       "       [-1., -1., -1., ..., -1., -1., -1.]])"
      ]
     },
     "execution_count": 6,
     "metadata": {},
     "output_type": "execute_result"
    }
   ],
   "source": [
    "# with open(f\"save_array/{save_array_name}.npy\", 'rb') as f:\n",
    "with open(f\"save_array/{save_array_name}.npy\", 'rb') as f:\n",
    "    array = np.load(f)\n",
    "array"
   ]
  },
  {
   "cell_type": "code",
   "execution_count": 7,
   "metadata": {},
   "outputs": [
    {
     "data": {
      "text/plain": [
       "(1000000, 100)"
      ]
     },
     "execution_count": 7,
     "metadata": {},
     "output_type": "execute_result"
    }
   ],
   "source": [
    "array.shape"
   ]
  },
  {
   "cell_type": "code",
   "execution_count": null,
   "metadata": {},
   "outputs": [],
   "source": []
  },
  {
   "cell_type": "code",
   "execution_count": null,
   "metadata": {},
   "outputs": [],
   "source": []
  },
  {
   "cell_type": "code",
   "execution_count": null,
   "metadata": {},
   "outputs": [],
   "source": [
    "m0 = 2\n",
    "n = 2\n",
    "iterations  = 98\n",
    "graph = Graph().barabasi_albert_model(m0, n, iterations = iterations)\n",
    "graph_name = \"BA\"\n",
    "p = 0.5\n",
    "epsilon = 0.5\n",
    "q = 3\n",
    "MC_steps = 2\n",
    "\n",
    "\n",
    "nx.set_node_attributes(graph, 1, \"state\")\n",
    "nodes = graph.nodes()\n",
    "N = len(nodes)\n",
    "save_array_name = f\"graph_{graph_name} p_{p} q_{q} epsilon_{epsilon} MC_steps_{epsilon}\"\n",
    "save_array = np.zeros((MC_steps, N))\n",
    "\n",
    "nodes_list = np.arange(0, N , 1)\n",
    "attributes_dict = nx.get_node_attributes(graph, \"state\")\n",
    "attributes_list = np.array(list(attributes_dict.values()))\n",
    "neighbors_list = tuple(tuple(graph.neighbors(n)) for n in nodes)\n",
    "for MC_step in range(MC_steps):\n",
    "    random_spinson = np.random.randint(0, N, N)\n",
    "    #independence case\n",
    "    independence = np.random.uniform(size=N) < p\n",
    "    independence_spinson = random_spinson[independence]\n",
    "    attributes_list[independence_spinson]  *= -1\n",
    "    #other case\n",
    "    not_independence_spinson = random_spinson[~independence]\n",
    "    random_neighbors = [random.choices(neighbors_list[n], k = q) for n in not_independence_spinson]\n",
    "    random_neighbors_state = attributes_list[random_neighbors]\n",
    "    same_state = np.abs(np.sum(random_neighbors_state, 1)) == q\n",
    "    attributes_list[not_independence_spinson[same_state]] *= -1\n",
    "    #otherwise\n",
    "    not_unanimous = not_independence_spinson[~same_state]\n",
    "    flip_not_unanimous = not_unanimous[np.random.uniform(size=len(not_unanimous)) < epsilon]\n",
    "    attributes_list[flip_not_unanimous] *= -1\n",
    "    save_array[MC_step] = attributes_list\n",
    "np.save(f\"save_array/{save_array_name}\",save_array)"
   ]
  }
 ],
 "metadata": {
  "kernelspec": {
   "display_name": "env",
   "language": "python",
   "name": "python3"
  },
  "language_info": {
   "codemirror_mode": {
    "name": "ipython",
    "version": 3
   },
   "file_extension": ".py",
   "mimetype": "text/x-python",
   "name": "python",
   "nbconvert_exporter": "python",
   "pygments_lexer": "ipython3",
   "version": "3.10.6"
  },
  "orig_nbformat": 4,
  "vscode": {
   "interpreter": {
    "hash": "11e6cfd1e89b41f317bee6045a71f59b0d979da4816ce900a6e345e235584496"
   }
  }
 },
 "nbformat": 4,
 "nbformat_minor": 2
}
