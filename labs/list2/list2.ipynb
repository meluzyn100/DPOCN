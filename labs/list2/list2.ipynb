{
 "cells": [
  {
   "cell_type": "code",
   "execution_count": 1,
   "metadata": {},
   "outputs": [],
   "source": [
    "import numpy as np\n",
    "import matplotlib.pyplot as plt"
   ]
  },
  {
   "cell_type": "code",
   "execution_count": 29,
   "metadata": {},
   "outputs": [],
   "source": [
    "class Edge():\n",
    "    def __init__(self) -> None:\n",
    "        pass\n",
    "  \n",
    "class Vertex():\n",
    "    def __init__(self, value, to_verts = None, weight = None) -> None:\n",
    "        self.value  = value\n",
    "        if to_verts:\n",
    "            self.endpoints = to_verts\n",
    "        else:\n",
    "            self.endpoints = []\n",
    "        self.weight = weight\n",
    "            \n",
    "    def getValue(self):\n",
    "        return self.value\n",
    "    \n",
    "    def addEndpoint(self, toVert):\n",
    "        self.endpoints.append(toVert)\n",
    "        \n",
    "        \n",
    "class Graph():\n",
    "    def __init__(self) -> None:\n",
    "            self.vertexs = set()\n",
    "            self.edges = set()\n",
    "\n",
    "    def addVertex(self, vert) -> None:\n",
    "        if vert not in self.getVertexValues():\n",
    "            vert = Vertex(vert)\n",
    "            self.vertexs.add(vert)\n",
    "    \n",
    "    def addVerticesFromList(self, vertex_list):\n",
    "        for vert in vertex_list:\n",
    "            self.addVertex(vert)\n",
    "    \n",
    "    def addEdge(self, fromVert, toVert, weight = None):\n",
    "        if fromVert not in self.getVertexValues():\n",
    "              fromVert = Vertex(fromVert, weight)\n",
    "\n",
    "        if toVert not in self.getVertexValues():\n",
    "              toVert = Vertex(toVert, weight)\n",
    "              \n",
    "        for vect in self.vertexs:\n",
    "            if vect.getValue() == fromVert:\n",
    "                toVert = Vertex(toVert, weight)\n",
    "            if vect.getValue() == fromVert:\n",
    "                toVert = Vertex(toVert, weight)\n",
    "                \n",
    "                vect.addEndpoint(toVert)\n",
    "                self.edges.append((fromVert, toVert))\n",
    "\n",
    "    def getVertexValues(self):\n",
    "        return [vert.getValue() for vert in self.vertexs]\n",
    "\n",
    "    def getAllEdgesValues(self):\n",
    "        return [[vert for vert in edge] for edge in self.edges]\n",
    "    \n",
    "    "
   ]
  },
  {
   "cell_type": "code",
   "execution_count": 30,
   "metadata": {},
   "outputs": [
    {
     "name": "stdout",
     "output_type": "stream",
     "text": [
      "{<__main__.Vertex object at 0x7fd01da5f210>, <__main__.Vertex object at 0x7fd01deadd50>, <__main__.Vertex object at 0x7fd01d408190>} <__main__.Graph object at 0x7fd01d5d4650>\n"
     ]
    }
   ],
   "source": [
    "g = Graph()\n",
    "g.addVerticesFromList([1,2,3])\n",
    "# g.addEdge(1,2)\n",
    "print(g.vertexs, g)"
   ]
  },
  {
   "cell_type": "code",
   "execution_count": 35,
   "metadata": {},
   "outputs": [
    {
     "data": {
      "text/plain": [
       "[2, 1, 3]"
      ]
     },
     "execution_count": 35,
     "metadata": {},
     "output_type": "execute_result"
    }
   ],
   "source": [
    "g.getVertexValues()"
   ]
  }
 ],
 "metadata": {
  "kernelspec": {
   "display_name": "Python 3",
   "language": "python",
   "name": "python3"
  },
  "language_info": {
   "codemirror_mode": {
    "name": "ipython",
    "version": 3
   },
   "file_extension": ".py",
   "mimetype": "text/x-python",
   "name": "python",
   "nbconvert_exporter": "python",
   "pygments_lexer": "ipython3",
   "version": "3.11.0rc1 (main, Aug 12 2022, 10:02:14) [GCC 11.2.0]"
  },
  "orig_nbformat": 4,
  "vscode": {
   "interpreter": {
    "hash": "ead1b95f633dc9c51826328e1846203f51a198c6fb5f2884a80417ba131d4e82"
   }
  }
 },
 "nbformat": 4,
 "nbformat_minor": 2
}
