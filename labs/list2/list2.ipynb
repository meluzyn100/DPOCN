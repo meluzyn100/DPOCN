{
 "cells": [
  {
   "cell_type": "code",
   "execution_count": 1,
   "metadata": {},
   "outputs": [],
   "source": [
    "import numpy as np\n",
    "import matplotlib.pyplot as plt"
   ]
  },
  {
   "cell_type": "code",
   "execution_count": 86,
   "metadata": {},
   "outputs": [],
   "source": [
    "def ID_Generator():\n",
    "    ID = 0\n",
    "    while True:\n",
    "        yield ID\n",
    "        ID += 1\n",
    "\n",
    "class Edge():\n",
    "    def __init__(self) -> None:\n",
    "        pass\n",
    "\n",
    "class Vertex():\n",
    "    def __init__(self, value, repeat_nr, ID, to_verts = None, weight = None) -> None:\n",
    "        self.value  = value\n",
    "        self.repeat_nr = repeat_nr\n",
    "        self.ID = ID\n",
    "        if to_verts:\n",
    "            self.endpoints = to_verts\n",
    "        else:\n",
    "            self.endpoints = []\n",
    "        self.weight = weight\n",
    "            \n",
    "    def getValue(self):\n",
    "        return self.value\n",
    "    \n",
    "    def get_ID(self):\n",
    "        return self.ID\n",
    "    \n",
    "    def addEndpoint(self, toVert):\n",
    "        self.endpoints.append(toVert)\n",
    "    \n",
    "        \n",
    "class Graph():\n",
    "    def __init__(self) -> None:\n",
    "            self.vertexs = []\n",
    "            self.edges = \n",
    "            self.name_counter = {}\n",
    "            self.vertex_id_gen = ID_Generator()\n",
    "            self.id_vertex_maping = {}\n",
    "\n",
    "    def addVertex(self, vert: str|dict) -> None:\n",
    "        if type(vert) == str:\n",
    "            if vert in self.name_counter:\n",
    "                self.name_counter[vert] += 1\n",
    "                repeat_nr = self.name_counter[vert]\n",
    "                vert = Vertex(vert, repeat_nr, next(self.vertex_id_gen))\n",
    "            else:\n",
    "                self.name_counter[vert] = 1\n",
    "                vert = Vertex(vert, 1, next(self.vertex_id_gen))\n",
    "        self.vertexs\n",
    "\n",
    "    \n",
    "    def addVerticesFromList(self, vertex_list):\n",
    "        for vert in vertex_list:\n",
    "            self.addVertex(vert)\n",
    "    \n",
    "    def addEdge(self, fromVert, toVert, weight = None):\n",
    "        if fromVert not in self.getVertexsValues():\n",
    "              fromVert = Vertex(fromVert, 1)\n",
    "\n",
    "        if toVert not in self.getVertexsValues():\n",
    "              toVert = Vertex(toVert, 1)\n",
    "              \n",
    "        for vect in self.vertexs:\n",
    "            if vect.getValue() == fromVert:\n",
    "                toVert = Vertex(toVert, weight)\n",
    "            if vect.getValue() == fromVert:\n",
    "                toVert = Vertex(toVert, weight)\n",
    "                \n",
    "                vect.addEndpoint(toVert)\n",
    "                self.edges.append((fromVert, toVert))\n",
    "\n",
    "    def getVertexsValues(self):\n",
    "        return [vert.getValue() for vert in self.vertexs]\n",
    "\n",
    "    def getAllEdgesValues(self):\n",
    "        return [[vert for vert in edge] for edge in self.edges]\n",
    "    \n",
    "    def get_id_name_tuple(self):\n",
    "        return [[vert.getValue(), vert.get_ID()] for vert in self.vertexs]"
   ]
  },
  {
   "cell_type": "code",
   "execution_count": 89,
   "metadata": {},
   "outputs": [
    {
     "data": {
      "text/plain": [
       "True"
      ]
     },
     "execution_count": 89,
     "metadata": {},
     "output_type": "execute_result"
    }
   ],
   "source": []
  },
  {
   "cell_type": "code",
   "execution_count": 87,
   "metadata": {},
   "outputs": [
    {
     "name": "stdout",
     "output_type": "stream",
     "text": [
      "{<__main__.Vertex object at 0x7f3a34203e50>, <__main__.Vertex object at 0x7f3a342010d0>, <__main__.Vertex object at 0x7f3a342018d0>}\n"
     ]
    }
   ],
   "source": [
    "g = Graph()\n",
    "g.addVerticesFromList([1,2,3])\n",
    "# g.addEdge(1,2)\n",
    "print(g.vertexs)"
   ]
  },
  {
   "cell_type": "code",
   "execution_count": 88,
   "metadata": {},
   "outputs": [
    {
     "data": {
      "text/plain": [
       "[[2, 0], [3, 0], [1, 0]]"
      ]
     },
     "execution_count": 88,
     "metadata": {},
     "output_type": "execute_result"
    }
   ],
   "source": [
    "g.get_id_name_tuple()"
   ]
  },
  {
   "attachments": {},
   "cell_type": "markdown",
   "metadata": {},
   "source": [
    "### secent try"
   ]
  },
  {
   "cell_type": "code",
   "execution_count": 128,
   "metadata": {},
   "outputs": [],
   "source": [
    "def ID_Generator():\n",
    "    num = 0\n",
    "    while True:\n",
    "        yield num\n",
    "        num += 1\n",
    "\n",
    "class Edge():\n",
    "    pass\n",
    "\n",
    "class Vertex():\n",
    "    def __init__(self, value, repeat_nr, ID) -> None:\n",
    "            self.Value = value\n",
    "            self.repeat_nr = repeat_nr\n",
    "            self.ID = ID\n",
    "            self.Links_end_points = []\n",
    "            self.Edges = []\n",
    "            \n",
    "    def getValue(self):    \n",
    "        return self.Value\n",
    "    \n",
    "    def getEdges(self):\n",
    "        return self.Edges\n",
    "    \n",
    "    def addEdge(self, toVert):\n",
    "        if toVert not in self.Links_end_points:\n",
    "            self.Links_end_points.append(toVert)\n",
    "    \n",
    "    # def checkEdgeExist(set, fromVert):\n",
    "        # return {self.Value, fromVert} in\n",
    "    \n",
    "class Graph():\n",
    "    def __init__(self) -> None:\n",
    "            self.vertexs = []\n",
    "            self.edges = []\n",
    "            self.name_counter = {}\n",
    "            self.vertex_id_gen = ID_Generator()\n",
    "            self.id_vertex_maping = {}\n",
    "\n",
    "    \n",
    "    def addVertex(self, vert: str) -> None:\n",
    "        if vert in self.name_counter:\n",
    "            self.name_counter[vert] += 1\n",
    "            repeat_nr = self.name_counter[vert]\n",
    "            vert = Vertex(vert, repeat_nr, next(self.vertex_id_gen))\n",
    "        else:\n",
    "            self.name_counter[vert] = 1\n",
    "            vert = Vertex(vert, 1, next(self.vertex_id_gen))\n",
    "        self.vertexs.append(vert)\n",
    "        \n",
    "    def addVerticesFromList(self, vertex_list: list):\n",
    "        for vert in vertex_list:\n",
    "            self.addVertex(vert)\n",
    "            \n",
    "    def getVertexsValues(self):\n",
    "        return [vert.getValue() for vert in self.vertexs]\n",
    "    \n",
    "\n",
    "    def addEdge(self, fromVert: str|list[str, int], toVert: str|list[str, int], weight = None):\n",
    "        if fromVert in self.name_counter:\n",
    "            \n",
    "        \n",
    "        \n",
    "        vertexs_svalues = self.getVertexsValues()\n",
    "        if fromVert not in vertexs_svalues:\n",
    "            fromVert = Vertex(fromVert)\n",
    "        else:\n",
    "            fromVert = self.vertexs[vertexs_svalues.index(fromVert)]\n",
    "            \n",
    "        if toVert not in self.getVertexsValues():\n",
    "            toVert = Vertex(toVert)\n",
    "        else:\n",
    "            toVert = self.vertexs[vertexs_svalues.index(toVert)]\n",
    "\n",
    "\n",
    "        \n",
    "        edge = Edge(fromVert, toVert)\n",
    "        \n",
    "        fromVert.addEdge(toVert)\n",
    "        toVert.addEdge(fromVert)"
   ]
  },
  {
   "cell_type": "code",
   "execution_count": 129,
   "metadata": {},
   "outputs": [
    {
     "data": {
      "text/plain": [
       "[1, 2, 2, 3]"
      ]
     },
     "execution_count": 129,
     "metadata": {},
     "output_type": "execute_result"
    }
   ],
   "source": [
    "g = Graph()\n",
    "g.addVertex(1)\n",
    "g.addVertex(2)\n",
    "g.addVerticesFromList([2, 3])\n",
    "# g.addEdge(1,2)\n",
    "# g.getVertexsValues()\n",
    "g.getVertexsValues()"
   ]
  },
  {
   "cell_type": "code",
   "execution_count": 131,
   "metadata": {},
   "outputs": [
    {
     "data": {
      "text/plain": [
       "[0, 1, 2, 3]"
      ]
     },
     "execution_count": 131,
     "metadata": {},
     "output_type": "execute_result"
    }
   ],
   "source": [
    "[i.ID for i in g.vertexs ]"
   ]
  },
  {
   "attachments": {},
   "cell_type": "markdown",
   "metadata": {},
   "source": [
    "## 3"
   ]
  },
  {
   "cell_type": "code",
   "execution_count": 98,
   "metadata": {},
   "outputs": [],
   "source": [
    "import warnings\n"
   ]
  },
  {
   "cell_type": "code",
   "execution_count": 407,
   "metadata": {},
   "outputs": [],
   "source": [
    "def ID_Generator():\n",
    "    num = 0\n",
    "    while True:\n",
    "        yield num\n",
    "        num += 1\n",
    "        \n",
    "class Edge():\n",
    "    def __init__(self, startpoint, endpoint, weight = None) -> None:\n",
    "        self.startpoint = startpoint\n",
    "        self.endpoint = endpoint\n",
    "        self.weight = weight\n",
    "        \n",
    "    def get_endpoint(self):\n",
    "        return self.endpoint\n",
    "    \n",
    "    def get_IDs(self):\n",
    "        return [self.startpoint.get_ID(), self.endpoint.get_ID()]\n",
    "    \n",
    "    def get_valus(self):\n",
    "        return [self.startpoint.get_value(), self.endpoint.get_value()]\n",
    "    \n",
    "class Vertex():\n",
    "    def __init__(self, value, ID) -> None:\n",
    "        self.value = value\n",
    "        self.edges = []\n",
    "        self.ID = ID\n",
    "\n",
    "    def get_value(self):\n",
    "        return self.value\n",
    "    \n",
    "    def get_ID(self):\n",
    "        return self.ID\n",
    "    \n",
    "    def get_edges(self):\n",
    "        return self.edges\n",
    "    \n",
    "    def add_edge(self, edge):\n",
    "        self.edges.append(edge)\n",
    "    \n",
    "    \n",
    "class Graph():\n",
    "    def __init__(self) -> None:\n",
    "        self.vertices = []\n",
    "        self.edges_by_id = []\n",
    "        self.ID_gen = ID_Generator()\n",
    "        self.name_id_dict = {}\n",
    "        self.id_vertex_dict = {}\n",
    "    \n",
    "    def addVertex(self, vert):\n",
    "        Vert = Vertex(vert, next(self.ID_gen))\n",
    "        if vert in self.name_id_dict:\n",
    "            self.name_id_dict[Vert.get_value()].append(Vert.get_ID())\n",
    "            warnings.warn(f\"There are {len(self.name_id_dict[Vert.get_value()])} vertex with the same value:{Vert.get_value()} in the graph.\", Warning)\n",
    "            warnings.warn(vert, Warning)\n",
    "\n",
    "        else:\n",
    "            self.name_id_dict[Vert.get_value()] = [Vert.get_ID()]\n",
    "            self.id_vertex_dict[Vert.get_ID()] = Vert\n",
    "\n",
    "\n",
    "        self.vertices.append(Vert)\n",
    "    \n",
    "    def addVerticesFromList(self, vertex_list: list):\n",
    "        for vert in vertex_list:\n",
    "            self.addVertex(vert)\n",
    "    \n",
    "    def get_vertexs_values(self):\n",
    "        return [verex.get_value() for verex in self.vertices]\n",
    "    \n",
    "    \n",
    "    \n",
    "    \n",
    "\n",
    "    def addEdge(self, fromVert: str|list[str, int], toVert, weight = None):\n",
    "        if type(fromVert) is list:\n",
    "            name, order = fromVert\n",
    "            fromVert_id = self.name_id_dict[name][order]\n",
    "        elif fromVert in self.name_id_dict:\n",
    "            if len(self.name_id_dict[fromVert]) == 1:\n",
    "                fromVert_id = self.name_id_dict[fromVert][0]\n",
    "            else:\n",
    "                raise ValueError(f\"There are {len(self.name_id_dict[fromVert])} vertices in the graph named '{fromVert}', please use as argument fromVert = ['{fromVert}', order].\")\n",
    "        else:\n",
    "            self.addVertex(fromVert)\n",
    "            fromVert_id = self.name_id_dict[fromVert][-1]\n",
    "        \n",
    "        \n",
    "        if type(toVert) is list:\n",
    "            name, order = toVert\n",
    "            toVert_id = self.name_id_dict[name][order]\n",
    "        elif toVert in self.name_id_dict:\n",
    "            if len(self.name_id_dict[toVert]) == 1:\n",
    "                toVert_id = self.name_id_dict[toVert][0]\n",
    "            else:\n",
    "                raise ValueError(f\"There are {len(self.name_id_dict[toVert])} vertices in the graph named '{toVert}', please use as argument toVert = ['{toVert}', order].\")\n",
    "        else:\n",
    "            self.addVertex(toVert)\n",
    "            toVert_id = self.name_id_dict[toVert][-1]\n",
    "        \n",
    "        if [fromVert_id, toVert_id] in self.edges_by_id or [toVert_id, fromVert_id] in self.edges_by_id:\n",
    "            warnings.warn(\"You are trying to add an existing edge.\", Warning)\n",
    "        else:\n",
    "            self.edges_by_id.extend([[fromVert_id, toVert_id],[toVert_id, fromVert_id]])\n",
    "            \n",
    "            fromVertex = self.id_vertex_dict[fromVert_id]\n",
    "            toVertex = self.id_vertex_dict[toVert_id]\n",
    "\n",
    "            fromVertex.add_edge(Edge(fromVertex, toVertex))\n",
    "            toVertex.add_edge(Edge(toVertex, fromVertex))\n",
    "    \n",
    "    def addEdgesFromList(self, edgeList: list):\n",
    "        for edge in edgeList:\n",
    "            self.addEdge(*edge)\n",
    "    \n",
    "    def getVertices(self):\n",
    "        return self.vertices\n",
    "    \n",
    "    def getNeighbors(self, vertKey: str|list[str,int]|Vertex):\n",
    "        if type(vertKey) is Vertex:\n",
    "            return vertKey.edges\n",
    "        elif type(vertKey) is list:\n",
    "            name, order = vertKey\n",
    "            Vert_id = self.name_id_dict[name][order]\n",
    "            return self.id_vertex_dict[Vert_id].edges\n",
    "        else:\n",
    "            if len(self.name_id_dict[vertKey]) == 1:\n",
    "                Vert_id = self.name_id_dict[vertKey][0]\n",
    "                return self.id_vertex_dict[Vert_id].edges\n",
    "            else:\n",
    "                raise ValueError(f\"There are {len(self.name_id_dict[Vert_id])} vertices in the graph named '{vertKey}', please use as argument vertKey = ['{vertKey}', order].\")\n",
    "            \n",
    "    def get_id_maping(self):\n",
    "        return self.id_vertex_dict\n",
    "    \n",
    "    def get_vertex_info(self):\n",
    "        info = {verex.get_ID():{\n",
    "                                \"value\": verex.get_value()}\n",
    "                for  verex in self.vertices\n",
    "                }\n",
    "        for value in self.vertices:\n",
    "            nr = 0\n",
    "            for ID in info:\n",
    "                if info[ID][\"value\"] == value.get_value():\n",
    "                    info[ID][\"ID\"] = ID\n",
    "                    info[ID][\"order\"] = nr\n",
    "                    info[ID][\"edges\"] = value.get_edges()\n",
    "                    info[ID][\"ID of fertex inside edge\"] = [edge.get_IDs() for edge in value.get_edges()]\n",
    "                    info[ID][\"Values of fertex inside edge\"] = [edge.get_valus() for edge in value.get_edges()]\n",
    "                    nr += 1\n",
    "        return info\n",
    "    \n",
    "    def __contains__(self, vertKey: str|list[str,int]|Vertex):\n",
    "        if type(vertKey) is Vertex:\n",
    "            return vertKey in self.vertices\n",
    "        \n",
    "        elif type(vertKey) is list:\n",
    "            name, order = vertKey\n",
    "            try:\n",
    "                id = self.name_id_dict[name][order]\n",
    "                if self.id_vertex_dict[id]: return True\n",
    "            except:\n",
    "                return False\n",
    "        else:\n",
    "            if vertKey in self.name_id_dict:\n",
    "                if len(self.name_id_dict[vertKey]) == 1:\n",
    "                    Vert_id = self.name_id_dict[vertKey][0]\n",
    "                    return self.id_vertex_dict[Vert_id].edges\n",
    "                else:\n",
    "                    raise ValueError(f\"There are {len(self.name_id_dict[vertKey])} vertices in the graph named '{vertKey}', please use as argument vertKey = ['{vertKey}', order].\")\n",
    "\n"
   ]
  },
  {
   "cell_type": "code",
   "execution_count": 409,
   "metadata": {},
   "outputs": [
    {
     "name": "stderr",
     "output_type": "stream",
     "text": [
      "/tmp/ipykernel_40993/1151238958.py:53: Warning: There are 2 vertex with the same value:F in the graph.\n",
      "  warnings.warn(f\"There are {len(self.name_id_dict[Vert.get_value()])} vertex with the same value:{Vert.get_value()} in the graph.\", Warning)\n",
      "/tmp/ipykernel_40993/1151238958.py:54: Warning: F\n",
      "  warnings.warn(vert, Warning)\n"
     ]
    },
    {
     "data": {
      "text/plain": [
       "{0: {'value': 'A',\n",
       "  'ID': 0,\n",
       "  'order': 0,\n",
       "  'edges': [<__main__.Edge at 0x7f67e322de10>,\n",
       "   <__main__.Edge at 0x7f67e34f8750>],\n",
       "  'ID of fertex inside edge': [[0, 3], [0, 6]],\n",
       "  'Values of fertex inside edge': [['A', 'E'], ['A', 'D']]},\n",
       " 1: {'value': 'B',\n",
       "  'ID': 1,\n",
       "  'order': 0,\n",
       "  'edges': [],\n",
       "  'ID of fertex inside edge': [],\n",
       "  'Values of fertex inside edge': []},\n",
       " 2: {'value': 'C',\n",
       "  'ID': 2,\n",
       "  'order': 0,\n",
       "  'edges': [],\n",
       "  'ID of fertex inside edge': [],\n",
       "  'Values of fertex inside edge': []},\n",
       " 3: {'value': 'E',\n",
       "  'ID': 3,\n",
       "  'order': 0,\n",
       "  'edges': [<__main__.Edge at 0x7f67e34f9510>],\n",
       "  'ID of fertex inside edge': [[3, 0]],\n",
       "  'Values of fertex inside edge': [['E', 'A']]},\n",
       " 4: {'value': 'F',\n",
       "  'ID': 4,\n",
       "  'order': 0,\n",
       "  'edges': [],\n",
       "  'ID of fertex inside edge': [],\n",
       "  'Values of fertex inside edge': []},\n",
       " 5: {'value': 'F',\n",
       "  'ID': 5,\n",
       "  'order': 1,\n",
       "  'edges': [],\n",
       "  'ID of fertex inside edge': [],\n",
       "  'Values of fertex inside edge': []},\n",
       " 6: {'value': 'D',\n",
       "  'ID': 6,\n",
       "  'order': 0,\n",
       "  'edges': [<__main__.Edge at 0x7f67e34fb110>],\n",
       "  'ID of fertex inside edge': [[6, 0]],\n",
       "  'Values of fertex inside edge': [['D', 'A']]}}"
      ]
     },
     "execution_count": 409,
     "metadata": {},
     "output_type": "execute_result"
    }
   ],
   "source": [
    "g = Graph()\n",
    "g.addVertex(\"A\")\n",
    "g.addVerticesFromList([\"B\", \"C\"])\n",
    "g.addEdgesFromList([[\"A\",\"E\"]])\n",
    "g.addVertex(\"F\")\n",
    "g.addVertex(\"F\")\n",
    "\n",
    "g.addEdge(\"A\",\"D\")\n",
    "\n",
    "g.get_vertex_info()\n",
    "g.getVertices()\n",
    "g.getNeighbors(\"A\")\n",
    "\n",
    "c = g.get_vertex_info()\n",
    "c"
   ]
  },
  {
   "cell_type": "code",
   "execution_count": 412,
   "metadata": {},
   "outputs": [
    {
     "data": {
      "text/plain": [
       "False"
      ]
     },
     "execution_count": 412,
     "metadata": {},
     "output_type": "execute_result"
    }
   ],
   "source": [
    "[\"A\", 1] in g"
   ]
  },
  {
   "cell_type": "code",
   "execution_count": 417,
   "metadata": {},
   "outputs": [],
   "source": [
    "def saveGraph(graph:Graph):\n",
    "    return 1"
   ]
  },
  {
   "cell_type": "code",
   "execution_count": 415,
   "metadata": {},
   "outputs": [
    {
     "data": {
      "text/plain": [
       "True"
      ]
     },
     "execution_count": 415,
     "metadata": {},
     "output_type": "execute_result"
    }
   ],
   "source": []
  },
  {
   "cell_type": "code",
   "execution_count": null,
   "metadata": {},
   "outputs": [],
   "source": []
  }
 ],
 "metadata": {
  "kernelspec": {
   "display_name": "Python 3",
   "language": "python",
   "name": "python3"
  },
  "language_info": {
   "codemirror_mode": {
    "name": "ipython",
    "version": 3
   },
   "file_extension": ".py",
   "mimetype": "text/x-python",
   "name": "python",
   "nbconvert_exporter": "python",
   "pygments_lexer": "ipython3",
   "version": "3.11.0rc1"
  },
  "orig_nbformat": 4,
  "vscode": {
   "interpreter": {
    "hash": "ead1b95f633dc9c51826328e1846203f51a198c6fb5f2884a80417ba131d4e82"
   }
  }
 },
 "nbformat": 4,
 "nbformat_minor": 2
}
