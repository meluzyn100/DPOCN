{
 "cells": [
  {
   "cell_type": "code",
   "execution_count": 79,
   "metadata": {},
   "outputs": [],
   "source": [
    "import warnings\n",
    "import numpy as np\n",
    "import matplotlib.pyplot as plt\n",
    "from numbers import Number\n",
    "from typing import Any, List\n",
    "import graphviz"
   ]
  },
  {
   "attachments": {},
   "cell_type": "markdown",
   "metadata": {},
   "source": [
    "# Code"
   ]
  },
  {
   "cell_type": "code",
   "execution_count": 80,
   "metadata": {},
   "outputs": [],
   "source": [
    "def ID_Generator():\n",
    "    \"\"\"Generator of IDs used as vertex IDs inside a graph class.\n",
    "\n",
    "    The generator produces a sequence of consecutive non-negative integers,\n",
    "    starting from zero.\n",
    "\n",
    "    \"\"\"\n",
    "    num = 0\n",
    "    while True:\n",
    "        yield num\n",
    "        num += 1\n",
    "\n",
    "\n",
    "class Vertex:\n",
    "    \"\"\"Class representing a vertex in a graph.\n",
    "\n",
    "    Attributes:\n",
    "        value (Any): The value associated with the vertex.\n",
    "        ID (int): The unique identifier of the vertex.\n",
    "        edges (List[Edge]): The list of edges connected to the vertex.\n",
    "\n",
    "    Methods:\n",
    "        __init__(value: Any, ID: int) -> None:\n",
    "            Initializes a vertex with the given value and ID.\n",
    "\n",
    "        get_value() -> Any:\n",
    "            Returns the value associated with the vertex.\n",
    "\n",
    "        get_ID() -> int:\n",
    "            Returns the unique identifier of the vertex.\n",
    "\n",
    "        get_edges() -> List[Edge]:\n",
    "            Returns the list of edges connected to the vertex.\n",
    "\n",
    "        add_edge(edge: Edge) -> None:\n",
    "            Adds the given edge to the list of edges connected to the vertex.\n",
    "    \"\"\"\n",
    "\n",
    "    def __init__(self, value: Any, ID: int) -> None:\n",
    "        \"\"\"Initializes a vertex with the given value and ID.\n",
    "\n",
    "        Args:\n",
    "            value: The value associated with the vertex.\n",
    "            ID: The unique identifier of the vertex.\n",
    "        \"\"\"\n",
    "        self.value = value\n",
    "        self.edges = []\n",
    "        self.ID = ID\n",
    "\n",
    "    def get_value(self) -> Any:\n",
    "        \"\"\"Returns the value associated with the vertex.\n",
    "\n",
    "        Returns:\n",
    "            The value associated with the vertex.\n",
    "        \"\"\"\n",
    "        return self.value\n",
    "\n",
    "    def get_ID(self) -> int:\n",
    "        \"\"\"Returns the unique identifier of the vertex.\n",
    "\n",
    "        Returns:\n",
    "            The unique identifier of the vertex.\n",
    "        \"\"\"\n",
    "        return self.ID\n",
    "\n",
    "    def get_edges(self) -> List['Edge']:\n",
    "        \"\"\"Returns the list of edges connected to the vertex.\n",
    "\n",
    "        Returns:\n",
    "            The list of edges connected to the vertex.\n",
    "        \"\"\"\n",
    "        return self.edges\n",
    "\n",
    "    def add_edge(self, edge: 'Edge') -> None:\n",
    "        \"\"\"Adds the given edge to the list of edges connected to the vertex.\n",
    "\n",
    "        Args:\n",
    "            edge: The edge to add.\n",
    "        \"\"\"\n",
    "        self.edges.append(edge)\n",
    "\n",
    "\n",
    "class Edge:\n",
    "    \"\"\"Class representing an edge in a graph.\n",
    "\n",
    "    Attributes:\n",
    "        startpoint (Vertex): The vertex at the start of the edge.\n",
    "        endpoint (Vertex): The vertex at the end of the edge.\n",
    "        weight (Number): The weight of the edge (default: 1).\n",
    "\n",
    "    Methods:\n",
    "        __init__(startpoint: Vertex, endpoint: Vertex, weight: Number = 1) -> None:\n",
    "            Initializes an edge with the given startpoint, endpoint, and weight.\n",
    "\n",
    "        get_endpoint() -> Vertex:\n",
    "            Returns the vertex at the end of the edge.\n",
    "\n",
    "        get_IDs() -> List[int]:\n",
    "            Returns the IDs of the startpoint and endpoint vertices.\n",
    "\n",
    "        get_values() -> List[Any]:\n",
    "            Returns the values of the startpoint and endpoint vertices.\n",
    "\n",
    "        get_weight() -> Number:\n",
    "            Returns the weight of the edge.\n",
    "    \"\"\"\n",
    "\n",
    "    def __init__(self, startpoint: Vertex, endpoint: Vertex, weight: Number = 1) -> None:\n",
    "        \"\"\"Initializes an edge with the given startpoint, endpoint, and weight.\n",
    "\n",
    "        Args:\n",
    "            startpoint: The vertex at the start of the edge.\n",
    "            endpoint: The vertex at the end of the edge.\n",
    "            weight: The weight of the edge (default: 1).\n",
    "        \"\"\"\n",
    "        self.startpoint = startpoint\n",
    "        self.endpoint = endpoint\n",
    "        self.weight = weight\n",
    "\n",
    "    def get_endpoint(self) -> Vertex:\n",
    "        \"\"\"Returns the vertex at the end of the edge.\n",
    "\n",
    "        Returns:\n",
    "            The vertex at the end of the edge.\n",
    "        \"\"\"\n",
    "        return self.endpoint\n",
    "\n",
    "    def get_IDs(self) -> List[int]:\n",
    "        \"\"\"Returns the IDs of the startpoint and endpoint vertices.\n",
    "\n",
    "        Returns:\n",
    "            A list containing the IDs of the startpoint and endpoint vertices.\n",
    "        \"\"\"\n",
    "        return [self.startpoint.get_ID(), self.endpoint.get_ID()]\n",
    "\n",
    "    def get_values(self) -> List[Any]:\n",
    "        \"\"\"Returns the values of the startpoint and endpoint vertices.\n",
    "\n",
    "        Returns:\n",
    "            A list containing the values of the startpoint and endpoint vertices.\n",
    "        \"\"\"\n",
    "        return [self.startpoint.get_value(), self.endpoint.get_value()]\n",
    "\n",
    "    def get_weight(self) -> Number:\n",
    "        \"\"\"Returns the weight of the edge.\n",
    "\n",
    "        Returns:\n",
    "            The weight of the edge.\n",
    "        \"\"\"\n",
    "        return self.weight\n",
    "\n",
    "\n",
    "class Graph:\n",
    "    \"\"\"\n",
    "    A class representing a graph.\n",
    "\n",
    "    Attributes:\n",
    "    vertices (list): A list of vertices in the graph.\n",
    "    edges (list): A list of edges in the graph.\n",
    "    edges_by_id (dict): A dictionary of edges indexed by their ID.\n",
    "    ID_gen (ID_Generator): An instance of ID_Generator class used to generate IDs.\n",
    "    name_id_dict (dict): A dictionary of vertex names indexed by their ID.\n",
    "    id_vertex_dict (dict): A dictionary of vertices indexed by their ID.\n",
    "\n",
    "    Methods:\n",
    "    addVertex(vert: str) -> None:\n",
    "        Adds a vertex to the graph.\n",
    "\n",
    "    addVerticesFromList(vertex_list: list) -> None:\n",
    "        Adds a list of vertices to the graph.\n",
    "    \n",
    "    get_vertexs_values() -> list:\n",
    "        Returns a list of vertex values in the graph.\n",
    "        \n",
    "    get_vertex_id(self) -> List:\n",
    "        Returns a list of IDs of all vertices in the graph.\n",
    "        \n",
    "    get_id_names_maping() -> dict:\n",
    "        Returns a dictionary that maps values to their IDs.\n",
    "\n",
    "    addEdgesFromList(edgeList: list) -> None:\n",
    "        Adds a list of edges to the graph.\n",
    "\n",
    "    getVertices() -> list:\n",
    "        Returns a list of vertices in the graph.\n",
    "    \n",
    "    getEdges() -> list:\n",
    "        Returns a list of edges in the graph.\n",
    "    \n",
    "    getNeighbors(vertKey: str|list[str,int]|Vertex) -> list:\n",
    "        Returns a list of vertices connected to a vertex.\n",
    "\n",
    "    saveGraph(graph: Graph, name:str = \"graph.dot\") -> None:\n",
    "        Saves the graph as a DOT file with the given name.\n",
    "    \n",
    "    getShortestPaths(self, fromVert: str|list[str,int]):\n",
    "        Finds the shortest paths from a vertex to all other vertices in the graph using Dijkstra's algorithm.\n",
    "    \n",
    "            \n",
    "    __contains__(vertKey: str | list[str, int] | Vertex) -> bool:\n",
    "        Returns True if a vertex exists in the graph, False otherwise.\n",
    "    \n",
    "    __str__(self):\n",
    "        Returns a string representation of the graph.\n",
    "        \n",
    "    \"\"\"\n",
    "    \n",
    "    def __init__(self) -> None:\n",
    "        self.vertices = []\n",
    "        self.edges = []\n",
    "        self.edges_by_id = {}\n",
    "        self.ID_gen = ID_Generator()\n",
    "        self.name_id_dict = {}\n",
    "        self.id_vertex_dict = {}\n",
    "\n",
    "    def addVertex(self, vert: str) -> None:\n",
    "        Vert = Vertex(vert, next(self.ID_gen))\n",
    "        if vert in self.name_id_dict:\n",
    "            self.name_id_dict[Vert.get_value()].append(Vert.get_ID())\n",
    "            warnings.warn(f\"There are {len(self.name_id_dict[Vert.get_value()])} vertex with the same value:{Vert.get_value()} in the graph.\", Warning)\n",
    "        else:\n",
    "            self.name_id_dict[Vert.get_value()] = [Vert.get_ID()]\n",
    "        self.id_vertex_dict[Vert.get_ID()] = Vert\n",
    "        self.vertices.append(Vert)\n",
    "\n",
    "    def addVerticesFromList(self, vertex_list: list):\n",
    "        for vert in vertex_list:\n",
    "            self.addVertex(vert)\n",
    "\n",
    "    \n",
    "    def get_vertexs_values(self):\n",
    "        return [verex.get_value() for verex in self.vertices]\n",
    "\n",
    "    def get_vertex_id(self):\n",
    "        return [vert.get_ID() for vert in self.vertices]\n",
    "    \n",
    "    def get_id_names_maping(self):\n",
    "        end_name_id_map = {}\n",
    "        name_id_dict = self.name_id_dict\n",
    "        for id in name_id_dict:\n",
    "            if len(name_id_dict[id]) == 1:\n",
    "                end_name_id_map[name_id_dict[id][0]] = id\n",
    "            else:\n",
    "                for j, _ in enumerate(name_id_dict[id]):\n",
    "                    end_name_id_map[name_id_dict[id][j]] = [id, j]\n",
    "        return end_name_id_map\n",
    "    \n",
    "    def addEdge(self, fromVert: str | list[str, int], toVert: str | list[str, int], weight: Number = 1):\n",
    "        if type(fromVert) is list:\n",
    "            name, order = fromVert\n",
    "            fromVert_id = self.name_id_dict[name][order]\n",
    "        elif fromVert in self.name_id_dict:\n",
    "            if len(self.name_id_dict[fromVert]) == 1:\n",
    "                fromVert_id = self.name_id_dict[fromVert][0]\n",
    "            else:\n",
    "                raise ValueError(f\"There are {len(self.name_id_dict[fromVert])} vertices in the graph named '{fromVert}', please use as argument fromVert = ['{fromVert}', order].\")\n",
    "        else:\n",
    "            self.addVertex(fromVert)\n",
    "            fromVert_id = self.name_id_dict[fromVert][-1]\n",
    "\n",
    "        if type(toVert) is list:\n",
    "            name, order = toVert\n",
    "            toVert_id = self.name_id_dict[name][order]\n",
    "        elif toVert in self.name_id_dict:\n",
    "            if len(self.name_id_dict[toVert]) == 1:\n",
    "                toVert_id = self.name_id_dict[toVert][0]\n",
    "            else:\n",
    "                raise ValueError(f\"There are {len(self.name_id_dict[toVert])} vertices in the graph named '{toVert}', please use as argument toVert = ['{toVert}', order].\")\n",
    "        else:\n",
    "            self.addVertex(toVert)\n",
    "            toVert_id = self.name_id_dict[toVert][-1]\n",
    "\n",
    "        if (fromVert_id, toVert_id) in self.edges_by_id or (toVert_id, fromVert_id) in self.edges_by_id:\n",
    "            warnings.warn(\"You are trying to add an existing edge.\", Warning)\n",
    "            if self.edges_by_id[(fromVert_id, toVert_id)].get_weight() != weight:\n",
    "                self.edges_by_id[(fromVert_id, toVert_id)].weight = weight\n",
    "                self.edges_by_id[(toVert_id, fromVert_id)].weight = weight\n",
    "                warnings.warn(\"You updat the weight value of edge [fromVert, toVert].\", Warning)\n",
    "\n",
    "        else:\n",
    "\n",
    "            fromVertex = self.id_vertex_dict[fromVert_id]\n",
    "            toVertex = self.id_vertex_dict[toVert_id]\n",
    "            edge1 = Edge(fromVertex, toVertex, weight)\n",
    "            edge2 = Edge(toVertex, fromVertex, weight)\n",
    "            self.edges.extend([edge1, edge2])\n",
    "            self.edges_by_id[(fromVert_id, toVert_id)] = edge1\n",
    "            self.edges_by_id[(toVert_id, fromVert_id)] = edge2\n",
    "\n",
    "            fromVertex.add_edge(edge1)\n",
    "            toVertex.add_edge(edge2)\n",
    "            \n",
    "    def addEdgesFromList(self, edgeList: list):\n",
    "        for edge in edgeList:\n",
    "            self.addEdge(*edge)\n",
    "    \n",
    "    def getVertices(self):\n",
    "        return self.vertices\n",
    "\n",
    "    def getEdges(self):\n",
    "            return self.edges\n",
    "    \n",
    "    def getNeighbors(self, vertKey: str | list[str, int] | Vertex):\n",
    "        if type(vertKey) is Vertex:\n",
    "            return vertKey.edges\n",
    "        elif type(vertKey) is list:\n",
    "            name, order = vertKey\n",
    "            Vert_id = self.name_id_dict[name][order]\n",
    "            return [edge.get_endpoint() for edge in self.id_vertex_dict[Vert_id].edges]\n",
    "        else:\n",
    "            if len(self.name_id_dict[vertKey]) == 1:\n",
    "                Vert_id = self.name_id_dict[vertKey][0]\n",
    "                return [edge.get_endpoint() for edge in self.id_vertex_dict[Vert_id].edges]\n",
    "            else:\n",
    "                raise ValueError(f\"There are {len(self.name_id_dict[Vert_id])} vertices in the graph named '{vertKey}', please use as argument vertKey = ['{vertKey}', order].\")\n",
    "    \n",
    "    def __contains__(self, vertKey: str | list[str, int] | Vertex):\n",
    "        if type(vertKey) is Vertex:\n",
    "            return vertKey in self.vertices\n",
    "\n",
    "        elif type(vertKey) is list:\n",
    "            name, order = vertKey\n",
    "            try:\n",
    "                id = self.name_id_dict[name][order]\n",
    "                if self.id_vertex_dict[id]: return True\n",
    "            except:\n",
    "                return False\n",
    "        else:\n",
    "            if vertKey in self.name_id_dict:\n",
    "                if len(self.name_id_dict[vertKey]) == 1:\n",
    "                    Vert_id = self.name_id_dict[vertKey][0]\n",
    "                    return self.id_vertex_dict[Vert_id].edges\n",
    "                else:\n",
    "                    raise ValueError(f\"There are {len(self.name_id_dict[vertKey])} vertices in the graph named '{vertKey}', please use as argument vertKey = ['{vertKey}', order].\")\n",
    "\n",
    "    @staticmethod\n",
    "    def saveGraph(graph: 'Graph', name:str = \"graph.dot\") -> None: \n",
    "        with open(name,\"w\") as file:\n",
    "            file.write(str(graph))\n",
    "    \n",
    "    def __str__(self):\n",
    "        \"\"\"Returns a string representation of the graph.\n",
    "\n",
    "        Returns:\n",
    "            A string representing the graph in the DOT language format, which can be used to visualize the graph.\n",
    "        \"\"\"\n",
    "        end_name_id_map = self.get_id_names_maping()\n",
    "        notes_id = self.get_vertex_id()\n",
    "        notes_names = [end_name_id_map[id] for id in notes_id]\n",
    "        dot = \"\"\n",
    "        edges_ids = {}\n",
    "        edges_by_id = g.edges_by_id\n",
    "        for ids in edges_by_id:\n",
    "            if not (ids in edges_ids or ids[::-1] in edges_ids):\n",
    "                edges_ids[ids] = {\"weight\":edges_by_id[ids].get_weight()}\n",
    "        \n",
    "        dot+=\"graph G {\\n\"\n",
    "        for name in notes_names:\n",
    "            dot+=f'   \"{name}\";\\n'\n",
    "        for edge_ids in edges_ids:\n",
    "                dot+=f'   \"{end_name_id_map[edge_ids[0]]}\" -- \"{end_name_id_map[edge_ids[1]]}\" [ label = \"{edges_ids[edge_ids][\"weight\"]}\" ];\\n'\n",
    "        dot+=\"}\"\n",
    "        return dot\n",
    "    \n",
    "    def getShortestPaths(self, fromVert: str|list[str,int]) -> dict['id':dict['vertex':str,'id_path':list,'weight':Number]]:\n",
    "        \"\"\"Finds the shortest paths from a vertex to all other vertices in the graph using Dijkstra's algorithm.\n",
    "        Args:\n",
    "            - fromVert: str or list[str,int] - Name of the starting vertex.\n",
    "\n",
    "        Returns:\n",
    "            - dict: A dictionary containing the shortest path information. The keys are the vertex IDs, and the values are dictionaries with the following keys:\n",
    "            - vertex: str - The name of the vertex.\n",
    "            - id_path: list[int] - The IDs of the vertices in the shortest path.\n",
    "            - weight: Number - The total weight of the shortest path.\n",
    "        \"\"\"\n",
    "        end_name_id_map = self.get_id_names_maping()\n",
    "        x = [id for id in end_name_id_map if fromVert == end_name_id_map[id]][0]\n",
    "        id_vertex_dict = self.id_vertex_dict\n",
    "        Q = [id for id in id_vertex_dict]\n",
    "        info = {id:{\"vertex\": end_name_id_map[id],\n",
    "                    \"id_path\": [],\n",
    "                    \"weight\": np.inf\n",
    "                    }\n",
    "                for id in id_vertex_dict}\n",
    "        info[x][\"id_path\"].append(x)\n",
    "        info[x][\"weight\"] = 0\n",
    "        while True:\n",
    "            Q.sort(key= lambda id: info[id][\"weight\"])\n",
    "            act = Q.pop(0)\n",
    "            if len(Q) == 0:\n",
    "                break\n",
    "            vert = id_vertex_dict[act]\n",
    "            for edge in vert.get_edges():\n",
    "                edge_end_point_id = edge.get_endpoint().get_ID()\n",
    "                if edge_end_point_id in Q:\n",
    "                    edge_weight = edge.get_weight()\n",
    "                    if edge_weight + info[act][\"weight\"] < info[edge_end_point_id][\"weight\"]:\n",
    "                        info[edge_end_point_id][\"weight\"] = edge_weight + info[act][\"weight\"]\n",
    "                        info[edge_end_point_id][\"id_path\"] = info[act][\"id_path\"] + [edge_end_point_id]    \n",
    "        return info"
   ]
  },
  {
   "cell_type": "code",
   "execution_count": null,
   "metadata": {},
   "outputs": [],
   "source": []
  },
  {
   "attachments": {},
   "cell_type": "markdown",
   "metadata": {},
   "source": [
    "# testy"
   ]
  },
  {
   "cell_type": "code",
   "execution_count": 81,
   "metadata": {},
   "outputs": [],
   "source": [
    "with open(\"test.dot\",\"w\") as f:\n",
    "    f.write(str(g))"
   ]
  },
  {
   "cell_type": "code",
   "execution_count": 82,
   "metadata": {},
   "outputs": [
    {
     "name": "stdout",
     "output_type": "stream",
     "text": [
      "Value ['A', 'B', 'C']\n"
     ]
    },
    {
     "data": {
      "text/plain": [
       "{0: 'A', 1: 'B', 2: 'C'}"
      ]
     },
     "execution_count": 82,
     "metadata": {},
     "output_type": "execute_result"
    }
   ],
   "source": [
    "g = Graph()\n",
    "g.addVertex(\"A\")\n",
    "g.addVertex(\"B\")\n",
    "g.addVertex(\"C\")\n",
    "print(\"Value\", g.get_vertexs_values())\n",
    "g.get_id_names_maping()"
   ]
  },
  {
   "cell_type": "code",
   "execution_count": 83,
   "metadata": {},
   "outputs": [
    {
     "name": "stdout",
     "output_type": "stream",
     "text": [
      "ID: 0, value: A\n",
      "ID: 1, value: A\n",
      "ID: 2, value: C\n"
     ]
    },
    {
     "name": "stderr",
     "output_type": "stream",
     "text": [
      "/tmp/ipykernel_142196/17606473.py:220: Warning: There are 2 vertex with the same value:A in the graph.\n",
      "  warnings.warn(f\"There are {len(self.name_id_dict[Vert.get_value()])} vertex with the same value:{Vert.get_value()} in the graph.\", Warning)\n"
     ]
    },
    {
     "data": {
      "text/plain": [
       "{0: ['A', 0], 1: ['A', 1], 2: 'C'}"
      ]
     },
     "execution_count": 83,
     "metadata": {},
     "output_type": "execute_result"
    }
   ],
   "source": [
    "g = Graph()\n",
    "g.addVertex(\"A\")\n",
    "g.addVertex(\"A\")\n",
    "g.addVertex(\"C\")\n",
    "for id, value in zip(g.get_vertex_id(), g.get_vertexs_values()):\n",
    "    print(f\"ID: {id}, value: {value}\")\n",
    "g.get_id_names_maping() #Duplicate values are represented as a tuple [\"Value\", \"order\"]"
   ]
  },
  {
   "cell_type": "code",
   "execution_count": 84,
   "metadata": {},
   "outputs": [
    {
     "name": "stdout",
     "output_type": "stream",
     "text": [
      "ID: 0, value: A\n",
      "ID: 1, value: B\n",
      "ID: 2, value: C\n"
     ]
    },
    {
     "data": {
      "text/plain": [
       "{0: 'A', 1: 'B', 2: 'C'}"
      ]
     },
     "execution_count": 84,
     "metadata": {},
     "output_type": "execute_result"
    }
   ],
   "source": [
    "g = Graph()\n",
    "g.addVerticesFromList([\"A\",\"B\",\"C\"])\n",
    "for id, value in zip(g.get_vertex_id(), g.get_vertexs_values()):\n",
    "    print(f\"ID: {id}, value: {value}\")\n",
    "g.get_id_names_maping() #Duplicate values are represented as a tuple [\"Value\", \"order\"]"
   ]
  },
  {
   "cell_type": "code",
   "execution_count": 85,
   "metadata": {},
   "outputs": [
    {
     "name": "stdout",
     "output_type": "stream",
     "text": [
      "Value ['A', 'B', 'C']\n"
     ]
    },
    {
     "data": {
      "text/plain": [
       "{(0, 1): <__main__.Edge at 0x7f47a26dbc10>,\n",
       " (1, 0): <__main__.Edge at 0x7f47a26dbf50>,\n",
       " (1, 2): <__main__.Edge at 0x7f47a26d8250>,\n",
       " (2, 1): <__main__.Edge at 0x7f47a26db290>,\n",
       " (2, 0): <__main__.Edge at 0x7f47a26d95d0>,\n",
       " (0, 2): <__main__.Edge at 0x7f47a26db950>}"
      ]
     },
     "execution_count": 85,
     "metadata": {},
     "output_type": "execute_result"
    }
   ],
   "source": [
    "g = Graph()\n",
    "g.addVertex(\"A\")\n",
    "g.addVertex(\"B\")\n",
    "g.addVertex(\"C\")\n",
    "g.addEdge(\"A\",\"B\")\n",
    "g.addEdge(\"B\",\"C\")\n",
    "g.addEdge(\"C\",\"A\")\n",
    "\n",
    "print(\"Value\", g.get_vertexs_values())\n",
    "g.edges_by_id"
   ]
  },
  {
   "cell_type": "code",
   "execution_count": 86,
   "metadata": {},
   "outputs": [
    {
     "name": "stdout",
     "output_type": "stream",
     "text": [
      "Value ['A', 'B', 'C']\n"
     ]
    },
    {
     "name": "stderr",
     "output_type": "stream",
     "text": [
      "/tmp/ipykernel_142196/17606473.py:274: Warning: You are trying to add an existing edge.\n",
      "  warnings.warn(\"You are trying to add an existing edge.\", Warning)\n",
      "/tmp/ipykernel_142196/17606473.py:278: Warning: You updat the weight value of edge [fromVert, toVert].\n",
      "  warnings.warn(\"You updat the weight value of edge [fromVert, toVert].\", Warning)\n"
     ]
    },
    {
     "data": {
      "text/plain": [
       "{(0, 1): <__main__.Edge at 0x7f47a26da9d0>,\n",
       " (1, 0): <__main__.Edge at 0x7f47a26dafd0>,\n",
       " (1, 2): <__main__.Edge at 0x7f47a26d9310>,\n",
       " (2, 1): <__main__.Edge at 0x7f47a26d8f90>,\n",
       " (2, 0): <__main__.Edge at 0x7f47a26d9ad0>,\n",
       " (0, 2): <__main__.Edge at 0x7f47a26d8e10>}"
      ]
     },
     "execution_count": 86,
     "metadata": {},
     "output_type": "execute_result"
    }
   ],
   "source": [
    "g = Graph()\n",
    "g.addVertex(\"A\")\n",
    "g.addVertex(\"B\")\n",
    "g.addVertex(\"C\")\n",
    "g.addEdge(\"A\",\"B\")\n",
    "g.addEdge(\"B\",\"C\")\n",
    "g.addEdge(\"C\",\"A\",1)\n",
    "g.addEdge(\"C\",\"A\",2)\n",
    "\n",
    "print(\"Value\", g.get_vertexs_values())\n",
    "g.edges_by_id"
   ]
  },
  {
   "cell_type": "code",
   "execution_count": 87,
   "metadata": {},
   "outputs": [
    {
     "name": "stdout",
     "output_type": "stream",
     "text": [
      "ID: 0, value: A\n",
      "ID: 1, value: B\n",
      "ID: 2, value: C\n"
     ]
    },
    {
     "data": {
      "text/plain": [
       "{(0, 1): <__main__.Edge at 0x7f47a2616790>,\n",
       " (1, 0): <__main__.Edge at 0x7f47a26157d0>,\n",
       " (1, 2): <__main__.Edge at 0x7f47a26172d0>,\n",
       " (2, 1): <__main__.Edge at 0x7f47a2615250>,\n",
       " (2, 0): <__main__.Edge at 0x7f47a2616750>,\n",
       " (0, 2): <__main__.Edge at 0x7f47a2617610>}"
      ]
     },
     "execution_count": 87,
     "metadata": {},
     "output_type": "execute_result"
    }
   ],
   "source": [
    "g = Graph()\n",
    "g.addVertex(\"A\")\n",
    "g.addVertex(\"B\")\n",
    "g.addVertex(\"C\")\n",
    "g.addEdgesFromList([[\"A\",\"B\"],\n",
    "                    [\"B\",\"C\"],\n",
    "                    [\"C\",\"A\"]])\n",
    "\n",
    "for id, value in zip(g.get_vertex_id(), g.get_vertexs_values()):\n",
    "    print(f\"ID: {id}, value: {value}\")\n",
    "g.edges_by_id"
   ]
  },
  {
   "cell_type": "code",
   "execution_count": 88,
   "metadata": {},
   "outputs": [
    {
     "data": {
      "text/plain": [
       "[['A', <__main__.Vertex at 0x7f47a27b8ad0>],\n",
       " ['B', <__main__.Vertex at 0x7f47a26da210>],\n",
       " ['C', <__main__.Vertex at 0x7f47a26d8150>]]"
      ]
     },
     "execution_count": 88,
     "metadata": {},
     "output_type": "execute_result"
    }
   ],
   "source": [
    "g = Graph()\n",
    "g.addVertex(\"A\")\n",
    "g.addVertex(\"B\")\n",
    "g.addVertex(\"C\")\n",
    "g.addEdgesFromList([[\"A\",\"B\"],\n",
    "                    [\"B\",\"C\"],\n",
    "                    [\"C\",\"A\"]])\n",
    "[[vert.get_value(), vert] for vert in g.getVertices()]"
   ]
  },
  {
   "cell_type": "code",
   "execution_count": 89,
   "metadata": {},
   "outputs": [
    {
     "data": {
      "text/plain": [
       "[[['A', 'B'], <__main__.Edge at 0x7f47a26b2590>],\n",
       " [['B', 'A'], <__main__.Edge at 0x7f47a26b3990>],\n",
       " [['B', 'C'], <__main__.Edge at 0x7f47a26b1d90>],\n",
       " [['C', 'B'], <__main__.Edge at 0x7f47a26b1e10>],\n",
       " [['C', 'A'], <__main__.Edge at 0x7f47a26b2110>],\n",
       " [['A', 'C'], <__main__.Edge at 0x7f47a26b1a90>]]"
      ]
     },
     "execution_count": 89,
     "metadata": {},
     "output_type": "execute_result"
    }
   ],
   "source": [
    "g = Graph()\n",
    "g.addVertex(\"A\")\n",
    "g.addVertex(\"B\")\n",
    "g.addVertex(\"C\")\n",
    "g.addEdgesFromList([[\"A\",\"B\"],\n",
    "                    [\"B\",\"C\"],\n",
    "                    [\"C\",\"A\"]])\n",
    "[[edge.get_values(),edge] for edge in g.getEdges()]\n"
   ]
  },
  {
   "cell_type": "code",
   "execution_count": 90,
   "metadata": {},
   "outputs": [
    {
     "data": {
      "text/plain": [
       "[['B', <__main__.Vertex at 0x7f47a26b3e90>],\n",
       " ['C', <__main__.Vertex at 0x7f47a26b2d90>]]"
      ]
     },
     "execution_count": 90,
     "metadata": {},
     "output_type": "execute_result"
    }
   ],
   "source": [
    "g = Graph()\n",
    "g.addVertex(\"A\")\n",
    "g.addVertex(\"B\")\n",
    "g.addVertex(\"C\")\n",
    "g.addEdgesFromList([[\"A\",\"B\"],\n",
    "                    [\"B\",\"C\"],\n",
    "                    [\"C\",\"A\"]])\n",
    "[[vert.get_value(), vert ] for vert in g.getNeighbors(\"A\")]"
   ]
  },
  {
   "cell_type": "code",
   "execution_count": 91,
   "metadata": {},
   "outputs": [
    {
     "data": {
      "text/plain": [
       "(True, True, False)"
      ]
     },
     "execution_count": 91,
     "metadata": {},
     "output_type": "execute_result"
    }
   ],
   "source": [
    "g = Graph()\n",
    "g.addVertex(\"A\")\n",
    "g.addVertex(\"B\")\n",
    "g.addVertex(\"C\")\n",
    "g.addEdgesFromList([[\"A\",\"B\"],\n",
    "                    [\"B\",\"C\"],\n",
    "                    [\"C\",\"A\"]])\n",
    "\n",
    "\"A\" in g, \"B\" in g, \"D\" in g"
   ]
  },
  {
   "cell_type": "code",
   "execution_count": 92,
   "metadata": {},
   "outputs": [
    {
     "data": {
      "image/svg+xml": "<?xml version=\"1.0\" encoding=\"UTF-8\" standalone=\"no\"?>\n<!DOCTYPE svg PUBLIC \"-//W3C//DTD SVG 1.1//EN\"\n \"http://www.w3.org/Graphics/SVG/1.1/DTD/svg11.dtd\">\n<!-- Generated by graphviz version 2.43.0 (0)\n -->\n<!-- Title: G Pages: 1 -->\n<svg width=\"301pt\" height=\"500pt\"\n viewBox=\"0.00 0.00 301.50 500.00\" xmlns=\"http://www.w3.org/2000/svg\" xmlns:xlink=\"http://www.w3.org/1999/xlink\">\n<g id=\"graph0\" class=\"graph\" transform=\"scale(1 1) rotate(0) translate(4 496)\">\n<title>G</title>\n<polygon fill=\"white\" stroke=\"transparent\" points=\"-4,4 -4,-496 297.5,-496 297.5,4 -4,4\"/>\n<!-- Alice -->\n<g id=\"node1\" class=\"node\">\n<title>Alice</title>\n<ellipse fill=\"none\" stroke=\"black\" cx=\"215.5\" cy=\"-474\" rx=\"29.8\" ry=\"18\"/>\n<text text-anchor=\"middle\" x=\"215.5\" y=\"-470.3\" font-family=\"Times,serif\" font-size=\"14.00\">Alice</text>\n</g>\n<!-- Bob -->\n<g id=\"node2\" class=\"node\">\n<title>Bob</title>\n<ellipse fill=\"none\" stroke=\"black\" cx=\"100.5\" cy=\"-387\" rx=\"27\" ry=\"18\"/>\n<text text-anchor=\"middle\" x=\"100.5\" y=\"-383.3\" font-family=\"Times,serif\" font-size=\"14.00\">Bob</text>\n</g>\n<!-- Alice&#45;&#45;Bob -->\n<g id=\"edge1\" class=\"edge\">\n<title>Alice&#45;&#45;Bob</title>\n<path fill=\"none\" stroke=\"black\" d=\"M187.47,-467.43C168.41,-462.43 143.65,-453.44 126.5,-438 116.61,-429.1 109.89,-415.54 105.76,-404.79\"/>\n<text text-anchor=\"middle\" x=\"130\" y=\"-426.8\" font-family=\"Times,serif\" font-size=\"14.00\">1</text>\n</g>\n<!-- David -->\n<g id=\"node8\" class=\"node\">\n<title>David</title>\n<ellipse fill=\"none\" stroke=\"black\" cx=\"215.5\" cy=\"-387\" rx=\"32.49\" ry=\"18\"/>\n<text text-anchor=\"middle\" x=\"215.5\" y=\"-383.3\" font-family=\"Times,serif\" font-size=\"14.00\">David</text>\n</g>\n<!-- Alice&#45;&#45;David -->\n<g id=\"edge7\" class=\"edge\">\n<title>Alice&#45;&#45;David</title>\n<path fill=\"none\" stroke=\"black\" d=\"M215.5,-455.8C215.5,-441.05 215.5,-419.92 215.5,-405.18\"/>\n<text text-anchor=\"middle\" x=\"219\" y=\"-426.8\" font-family=\"Times,serif\" font-size=\"14.00\">1</text>\n</g>\n<!-- Ernst -->\n<g id=\"node9\" class=\"node\">\n<title>Ernst</title>\n<ellipse fill=\"none\" stroke=\"black\" cx=\"165.5\" cy=\"-333\" rx=\"29.8\" ry=\"18\"/>\n<text text-anchor=\"middle\" x=\"165.5\" y=\"-329.3\" font-family=\"Times,serif\" font-size=\"14.00\">Ernst</text>\n</g>\n<!-- Alice&#45;&#45;Ernst -->\n<g id=\"edge10\" class=\"edge\">\n<title>Alice&#45;&#45;Ernst</title>\n<path fill=\"none\" stroke=\"black\" d=\"M203.53,-457.46C194.02,-444.26 181.24,-424.4 174.5,-405 168.34,-387.28 166.32,-365.76 165.69,-351.09\"/>\n<text text-anchor=\"middle\" x=\"194\" y=\"-426.8\" font-family=\"Times,serif\" font-size=\"14.00\">1</text>\n</g>\n<!-- Frank -->\n<g id=\"node10\" class=\"node\">\n<title>Frank</title>\n<ellipse fill=\"none\" stroke=\"black\" cx=\"241.5\" cy=\"-192\" rx=\"31.4\" ry=\"18\"/>\n<text text-anchor=\"middle\" x=\"241.5\" y=\"-188.3\" font-family=\"Times,serif\" font-size=\"14.00\">Frank</text>\n</g>\n<!-- Alice&#45;&#45;Frank -->\n<g id=\"edge13\" class=\"edge\">\n<title>Alice&#45;&#45;Frank</title>\n<path fill=\"none\" stroke=\"black\" d=\"M235.43,-460.58C243.76,-454.59 252.99,-446.79 259.5,-438 268.87,-425.33 269.2,-420.41 272.5,-405 285.89,-342.38 292.93,-323.15 277.5,-261 272.73,-241.81 261.44,-222.08 252.77,-208.85\"/>\n<text text-anchor=\"middle\" x=\"290\" y=\"-329.3\" font-family=\"Times,serif\" font-size=\"14.00\">1</text>\n</g>\n<!-- Gail -->\n<g id=\"node3\" class=\"node\">\n<title>Gail</title>\n<ellipse fill=\"none\" stroke=\"black\" cx=\"100.5\" cy=\"-279\" rx=\"27\" ry=\"18\"/>\n<text text-anchor=\"middle\" x=\"100.5\" y=\"-275.3\" font-family=\"Times,serif\" font-size=\"14.00\">Gail</text>\n</g>\n<!-- Bob&#45;&#45;Gail -->\n<g id=\"edge2\" class=\"edge\">\n<title>Bob&#45;&#45;Gail</title>\n<path fill=\"none\" stroke=\"black\" d=\"M100.5,-368.97C100.5,-349.31 100.5,-317.13 100.5,-297.34\"/>\n<text text-anchor=\"middle\" x=\"104\" y=\"-329.3\" font-family=\"Times,serif\" font-size=\"14.00\">1</text>\n</g>\n<!-- Harry -->\n<g id=\"node6\" class=\"node\">\n<title>Harry</title>\n<ellipse fill=\"none\" stroke=\"black\" cx=\"32.5\" cy=\"-192\" rx=\"32.49\" ry=\"18\"/>\n<text text-anchor=\"middle\" x=\"32.5\" y=\"-188.3\" font-family=\"Times,serif\" font-size=\"14.00\">Harry</text>\n</g>\n<!-- Gail&#45;&#45;Harry -->\n<g id=\"edge5\" class=\"edge\">\n<title>Gail&#45;&#45;Harry</title>\n<path fill=\"none\" stroke=\"black\" d=\"M88.34,-262.8C76.12,-247.52 57.36,-224.08 45.01,-208.64\"/>\n<text text-anchor=\"middle\" x=\"75\" y=\"-231.8\" font-family=\"Times,serif\" font-size=\"14.00\">1</text>\n</g>\n<!-- Irene -->\n<g id=\"node4\" class=\"node\">\n<title>Irene</title>\n<ellipse fill=\"none\" stroke=\"black\" cx=\"84.5\" cy=\"-105\" rx=\"28.7\" ry=\"18\"/>\n<text text-anchor=\"middle\" x=\"84.5\" y=\"-101.3\" font-family=\"Times,serif\" font-size=\"14.00\">Irene</text>\n</g>\n<!-- Irene&#45;&#45;Gail -->\n<g id=\"edge3\" class=\"edge\">\n<title>Irene&#45;&#45;Gail</title>\n<path fill=\"none\" stroke=\"black\" d=\"M86.08,-123.05C89.15,-155.97 95.84,-227.91 98.9,-260.88\"/>\n<text text-anchor=\"middle\" x=\"98\" y=\"-188.3\" font-family=\"Times,serif\" font-size=\"14.00\">1</text>\n</g>\n<!-- Jen -->\n<g id=\"node7\" class=\"node\">\n<title>Jen</title>\n<ellipse fill=\"none\" stroke=\"black\" cx=\"84.5\" cy=\"-18\" rx=\"27\" ry=\"18\"/>\n<text text-anchor=\"middle\" x=\"84.5\" y=\"-14.3\" font-family=\"Times,serif\" font-size=\"14.00\">Jen</text>\n</g>\n<!-- Irene&#45;&#45;Jen -->\n<g id=\"edge6\" class=\"edge\">\n<title>Irene&#45;&#45;Jen</title>\n<path fill=\"none\" stroke=\"black\" d=\"M84.5,-86.8C84.5,-72.05 84.5,-50.92 84.5,-36.18\"/>\n<text text-anchor=\"middle\" x=\"88\" y=\"-57.8\" font-family=\"Times,serif\" font-size=\"14.00\">1</text>\n</g>\n<!-- Carl -->\n<g id=\"node5\" class=\"node\">\n<title>Carl</title>\n<ellipse fill=\"none\" stroke=\"black\" cx=\"241.5\" cy=\"-279\" rx=\"27\" ry=\"18\"/>\n<text text-anchor=\"middle\" x=\"241.5\" y=\"-275.3\" font-family=\"Times,serif\" font-size=\"14.00\">Carl</text>\n</g>\n<!-- Carl&#45;&#45;Alice -->\n<g id=\"edge4\" class=\"edge\">\n<title>Carl&#45;&#45;Alice</title>\n<path fill=\"none\" stroke=\"black\" d=\"M247.6,-296.89C255.47,-321.21 266.98,-367.31 256.5,-405 250.99,-424.79 238.01,-444.58 228.11,-457.66\"/>\n<text text-anchor=\"middle\" x=\"265\" y=\"-383.3\" font-family=\"Times,serif\" font-size=\"14.00\">1</text>\n</g>\n<!-- Carl&#45;&#45;Frank -->\n<g id=\"edge15\" class=\"edge\">\n<title>Carl&#45;&#45;Frank</title>\n<path fill=\"none\" stroke=\"black\" d=\"M241.5,-260.8C241.5,-246.05 241.5,-224.92 241.5,-210.18\"/>\n<text text-anchor=\"middle\" x=\"245\" y=\"-231.8\" font-family=\"Times,serif\" font-size=\"14.00\">1</text>\n</g>\n<!-- Harry&#45;&#45;Irene -->\n<g id=\"edge14\" class=\"edge\">\n<title>Harry&#45;&#45;Irene</title>\n<path fill=\"none\" stroke=\"black\" d=\"M42.52,-174.61C51.79,-159.46 65.48,-137.09 74.68,-122.05\"/>\n<text text-anchor=\"middle\" x=\"66\" y=\"-144.8\" font-family=\"Times,serif\" font-size=\"14.00\">1</text>\n</g>\n<!-- Harry&#45;&#45;Jen -->\n<g id=\"edge8\" class=\"edge\">\n<title>Harry&#45;&#45;Jen</title>\n<path fill=\"none\" stroke=\"black\" d=\"M31.02,-173.91C29.79,-152.87 29.59,-116.32 39.5,-87 46.3,-66.88 60.58,-46.99 71.24,-33.97\"/>\n<text text-anchor=\"middle\" x=\"43\" y=\"-101.3\" font-family=\"Times,serif\" font-size=\"14.00\">1</text>\n</g>\n<!-- Jen&#45;&#45;Gail -->\n<g id=\"edge11\" class=\"edge\">\n<title>Jen&#45;&#45;Gail</title>\n<path fill=\"none\" stroke=\"black\" d=\"M96.2,-34.49C105.38,-47.66 117.42,-67.5 122.5,-87 138.9,-149.99 117.55,-227.84 106.44,-261.36\"/>\n<text text-anchor=\"middle\" x=\"132\" y=\"-144.8\" font-family=\"Times,serif\" font-size=\"14.00\">1</text>\n</g>\n<!-- David&#45;&#45;Carl -->\n<g id=\"edge12\" class=\"edge\">\n<title>David&#45;&#45;Carl</title>\n<path fill=\"none\" stroke=\"black\" d=\"M219.67,-368.97C224.53,-349.19 232.48,-316.75 237.33,-296.99\"/>\n<text text-anchor=\"middle\" x=\"236\" y=\"-329.3\" font-family=\"Times,serif\" font-size=\"14.00\">1</text>\n</g>\n<!-- Ernst&#45;&#45;Frank -->\n<g id=\"edge9\" class=\"edge\">\n<title>Ernst&#45;&#45;Frank</title>\n<path fill=\"none\" stroke=\"black\" d=\"M172.51,-315.35C178.82,-300.77 188.6,-279.14 198.5,-261 208.47,-242.73 221.4,-222.69 230.46,-209.13\"/>\n<text text-anchor=\"middle\" x=\"202\" y=\"-275.3\" font-family=\"Times,serif\" font-size=\"14.00\">1</text>\n</g>\n</g>\n</svg>\n",
      "text/plain": [
       "<graphviz.sources.Source at 0x7f47a277bd90>"
      ]
     },
     "execution_count": 92,
     "metadata": {},
     "output_type": "execute_result"
    }
   ],
   "source": [
    "g = Graph()\n",
    "\n",
    "g.addEdgesFromList([[\"Alice\",\"Bob\"],\n",
    "                    [\"Bob\",\"Gail\"],\n",
    "                    [\"Irene\",\"Gail\"],\n",
    "                    [\"Carl\",\"Alice\"],\n",
    "                    [\"Gail\",\"Harry\"],\n",
    "                    [\"Irene\",\"Jen\"],\n",
    "                    [\"Alice\",\"David\"],\n",
    "                    [\"Harry\",\"Jen\"],\n",
    "                    [\"Ernst\",\"Frank\"],\n",
    "                    [\"Alice\",\"Ernst\"],\n",
    "                    [\"Jen\",\"Gail\"],\n",
    "                    [\"David\",\"Carl\"],\n",
    "                    [\"Alice\",\"Frank\"],\n",
    "                    [\"Harry\",\"Irene\"],\n",
    "                    [\"Carl\",\"Frank\"]])\n",
    "Graph.saveGraph(g)\n",
    "graphviz.Source.from_file(\"graph.dot\")"
   ]
  },
  {
   "cell_type": "code",
   "execution_count": 93,
   "metadata": {},
   "outputs": [
    {
     "name": "stdout",
     "output_type": "stream",
     "text": [
      "ID: 0, value: Alice\n",
      "ID: 1, value: Bob\n",
      "ID: 2, value: Gail\n",
      "ID: 3, value: Irene\n",
      "ID: 4, value: Carl\n",
      "ID: 5, value: Harry\n",
      "ID: 6, value: Jen\n",
      "ID: 7, value: David\n",
      "ID: 8, value: Ernst\n",
      "ID: 9, value: Frank\n"
     ]
    },
    {
     "data": {
      "image/svg+xml": "<?xml version=\"1.0\" encoding=\"UTF-8\" standalone=\"no\"?>\n<!DOCTYPE svg PUBLIC \"-//W3C//DTD SVG 1.1//EN\"\n \"http://www.w3.org/Graphics/SVG/1.1/DTD/svg11.dtd\">\n<!-- Generated by graphviz version 2.43.0 (0)\n -->\n<!-- Title: G Pages: 1 -->\n<svg width=\"301pt\" height=\"500pt\"\n viewBox=\"0.00 0.00 301.50 500.00\" xmlns=\"http://www.w3.org/2000/svg\" xmlns:xlink=\"http://www.w3.org/1999/xlink\">\n<g id=\"graph0\" class=\"graph\" transform=\"scale(1 1) rotate(0) translate(4 496)\">\n<title>G</title>\n<polygon fill=\"white\" stroke=\"transparent\" points=\"-4,4 -4,-496 297.5,-496 297.5,4 -4,4\"/>\n<!-- Alice -->\n<g id=\"node1\" class=\"node\">\n<title>Alice</title>\n<ellipse fill=\"none\" stroke=\"black\" cx=\"215.5\" cy=\"-474\" rx=\"29.8\" ry=\"18\"/>\n<text text-anchor=\"middle\" x=\"215.5\" y=\"-470.3\" font-family=\"Times,serif\" font-size=\"14.00\">Alice</text>\n</g>\n<!-- Bob -->\n<g id=\"node2\" class=\"node\">\n<title>Bob</title>\n<ellipse fill=\"none\" stroke=\"black\" cx=\"100.5\" cy=\"-387\" rx=\"27\" ry=\"18\"/>\n<text text-anchor=\"middle\" x=\"100.5\" y=\"-383.3\" font-family=\"Times,serif\" font-size=\"14.00\">Bob</text>\n</g>\n<!-- Alice&#45;&#45;Bob -->\n<g id=\"edge1\" class=\"edge\">\n<title>Alice&#45;&#45;Bob</title>\n<path fill=\"none\" stroke=\"black\" d=\"M187.47,-467.43C168.41,-462.43 143.65,-453.44 126.5,-438 116.61,-429.1 109.89,-415.54 105.76,-404.79\"/>\n<text text-anchor=\"middle\" x=\"130\" y=\"-426.8\" font-family=\"Times,serif\" font-size=\"14.00\">1</text>\n</g>\n<!-- David -->\n<g id=\"node8\" class=\"node\">\n<title>David</title>\n<ellipse fill=\"none\" stroke=\"black\" cx=\"215.5\" cy=\"-387\" rx=\"32.49\" ry=\"18\"/>\n<text text-anchor=\"middle\" x=\"215.5\" y=\"-383.3\" font-family=\"Times,serif\" font-size=\"14.00\">David</text>\n</g>\n<!-- Alice&#45;&#45;David -->\n<g id=\"edge7\" class=\"edge\">\n<title>Alice&#45;&#45;David</title>\n<path fill=\"none\" stroke=\"black\" d=\"M215.5,-455.8C215.5,-441.05 215.5,-419.92 215.5,-405.18\"/>\n<text text-anchor=\"middle\" x=\"219\" y=\"-426.8\" font-family=\"Times,serif\" font-size=\"14.00\">1</text>\n</g>\n<!-- Ernst -->\n<g id=\"node9\" class=\"node\">\n<title>Ernst</title>\n<ellipse fill=\"none\" stroke=\"black\" cx=\"165.5\" cy=\"-333\" rx=\"29.8\" ry=\"18\"/>\n<text text-anchor=\"middle\" x=\"165.5\" y=\"-329.3\" font-family=\"Times,serif\" font-size=\"14.00\">Ernst</text>\n</g>\n<!-- Alice&#45;&#45;Ernst -->\n<g id=\"edge10\" class=\"edge\">\n<title>Alice&#45;&#45;Ernst</title>\n<path fill=\"none\" stroke=\"black\" d=\"M203.53,-457.46C194.02,-444.26 181.24,-424.4 174.5,-405 168.34,-387.28 166.32,-365.76 165.69,-351.09\"/>\n<text text-anchor=\"middle\" x=\"194\" y=\"-426.8\" font-family=\"Times,serif\" font-size=\"14.00\">1</text>\n</g>\n<!-- Frank -->\n<g id=\"node10\" class=\"node\">\n<title>Frank</title>\n<ellipse fill=\"none\" stroke=\"black\" cx=\"241.5\" cy=\"-192\" rx=\"31.4\" ry=\"18\"/>\n<text text-anchor=\"middle\" x=\"241.5\" y=\"-188.3\" font-family=\"Times,serif\" font-size=\"14.00\">Frank</text>\n</g>\n<!-- Alice&#45;&#45;Frank -->\n<g id=\"edge13\" class=\"edge\">\n<title>Alice&#45;&#45;Frank</title>\n<path fill=\"none\" stroke=\"black\" d=\"M235.43,-460.58C243.76,-454.59 252.99,-446.79 259.5,-438 268.87,-425.33 269.2,-420.41 272.5,-405 285.89,-342.38 292.93,-323.15 277.5,-261 272.73,-241.81 261.44,-222.08 252.77,-208.85\"/>\n<text text-anchor=\"middle\" x=\"290\" y=\"-329.3\" font-family=\"Times,serif\" font-size=\"14.00\">1</text>\n</g>\n<!-- Gail -->\n<g id=\"node3\" class=\"node\">\n<title>Gail</title>\n<ellipse fill=\"none\" stroke=\"black\" cx=\"100.5\" cy=\"-279\" rx=\"27\" ry=\"18\"/>\n<text text-anchor=\"middle\" x=\"100.5\" y=\"-275.3\" font-family=\"Times,serif\" font-size=\"14.00\">Gail</text>\n</g>\n<!-- Bob&#45;&#45;Gail -->\n<g id=\"edge2\" class=\"edge\">\n<title>Bob&#45;&#45;Gail</title>\n<path fill=\"none\" stroke=\"black\" d=\"M100.5,-368.97C100.5,-349.31 100.5,-317.13 100.5,-297.34\"/>\n<text text-anchor=\"middle\" x=\"104\" y=\"-329.3\" font-family=\"Times,serif\" font-size=\"14.00\">1</text>\n</g>\n<!-- Harry -->\n<g id=\"node6\" class=\"node\">\n<title>Harry</title>\n<ellipse fill=\"none\" stroke=\"black\" cx=\"32.5\" cy=\"-192\" rx=\"32.49\" ry=\"18\"/>\n<text text-anchor=\"middle\" x=\"32.5\" y=\"-188.3\" font-family=\"Times,serif\" font-size=\"14.00\">Harry</text>\n</g>\n<!-- Gail&#45;&#45;Harry -->\n<g id=\"edge5\" class=\"edge\">\n<title>Gail&#45;&#45;Harry</title>\n<path fill=\"none\" stroke=\"black\" d=\"M88.34,-262.8C76.12,-247.52 57.36,-224.08 45.01,-208.64\"/>\n<text text-anchor=\"middle\" x=\"75\" y=\"-231.8\" font-family=\"Times,serif\" font-size=\"14.00\">1</text>\n</g>\n<!-- Irene -->\n<g id=\"node4\" class=\"node\">\n<title>Irene</title>\n<ellipse fill=\"none\" stroke=\"black\" cx=\"84.5\" cy=\"-105\" rx=\"28.7\" ry=\"18\"/>\n<text text-anchor=\"middle\" x=\"84.5\" y=\"-101.3\" font-family=\"Times,serif\" font-size=\"14.00\">Irene</text>\n</g>\n<!-- Irene&#45;&#45;Gail -->\n<g id=\"edge3\" class=\"edge\">\n<title>Irene&#45;&#45;Gail</title>\n<path fill=\"none\" stroke=\"black\" d=\"M86.08,-123.05C89.15,-155.97 95.84,-227.91 98.9,-260.88\"/>\n<text text-anchor=\"middle\" x=\"98\" y=\"-188.3\" font-family=\"Times,serif\" font-size=\"14.00\">1</text>\n</g>\n<!-- Jen -->\n<g id=\"node7\" class=\"node\">\n<title>Jen</title>\n<ellipse fill=\"none\" stroke=\"black\" cx=\"84.5\" cy=\"-18\" rx=\"27\" ry=\"18\"/>\n<text text-anchor=\"middle\" x=\"84.5\" y=\"-14.3\" font-family=\"Times,serif\" font-size=\"14.00\">Jen</text>\n</g>\n<!-- Irene&#45;&#45;Jen -->\n<g id=\"edge6\" class=\"edge\">\n<title>Irene&#45;&#45;Jen</title>\n<path fill=\"none\" stroke=\"black\" d=\"M84.5,-86.8C84.5,-72.05 84.5,-50.92 84.5,-36.18\"/>\n<text text-anchor=\"middle\" x=\"88\" y=\"-57.8\" font-family=\"Times,serif\" font-size=\"14.00\">1</text>\n</g>\n<!-- Carl -->\n<g id=\"node5\" class=\"node\">\n<title>Carl</title>\n<ellipse fill=\"none\" stroke=\"black\" cx=\"241.5\" cy=\"-279\" rx=\"27\" ry=\"18\"/>\n<text text-anchor=\"middle\" x=\"241.5\" y=\"-275.3\" font-family=\"Times,serif\" font-size=\"14.00\">Carl</text>\n</g>\n<!-- Carl&#45;&#45;Alice -->\n<g id=\"edge4\" class=\"edge\">\n<title>Carl&#45;&#45;Alice</title>\n<path fill=\"none\" stroke=\"black\" d=\"M247.6,-296.89C255.47,-321.21 266.98,-367.31 256.5,-405 250.99,-424.79 238.01,-444.58 228.11,-457.66\"/>\n<text text-anchor=\"middle\" x=\"265\" y=\"-383.3\" font-family=\"Times,serif\" font-size=\"14.00\">1</text>\n</g>\n<!-- Carl&#45;&#45;Frank -->\n<g id=\"edge15\" class=\"edge\">\n<title>Carl&#45;&#45;Frank</title>\n<path fill=\"none\" stroke=\"black\" d=\"M241.5,-260.8C241.5,-246.05 241.5,-224.92 241.5,-210.18\"/>\n<text text-anchor=\"middle\" x=\"245\" y=\"-231.8\" font-family=\"Times,serif\" font-size=\"14.00\">1</text>\n</g>\n<!-- Harry&#45;&#45;Irene -->\n<g id=\"edge14\" class=\"edge\">\n<title>Harry&#45;&#45;Irene</title>\n<path fill=\"none\" stroke=\"black\" d=\"M42.52,-174.61C51.79,-159.46 65.48,-137.09 74.68,-122.05\"/>\n<text text-anchor=\"middle\" x=\"66\" y=\"-144.8\" font-family=\"Times,serif\" font-size=\"14.00\">1</text>\n</g>\n<!-- Harry&#45;&#45;Jen -->\n<g id=\"edge8\" class=\"edge\">\n<title>Harry&#45;&#45;Jen</title>\n<path fill=\"none\" stroke=\"black\" d=\"M31.02,-173.91C29.79,-152.87 29.59,-116.32 39.5,-87 46.3,-66.88 60.58,-46.99 71.24,-33.97\"/>\n<text text-anchor=\"middle\" x=\"43\" y=\"-101.3\" font-family=\"Times,serif\" font-size=\"14.00\">1</text>\n</g>\n<!-- Jen&#45;&#45;Gail -->\n<g id=\"edge11\" class=\"edge\">\n<title>Jen&#45;&#45;Gail</title>\n<path fill=\"none\" stroke=\"black\" d=\"M96.2,-34.49C105.38,-47.66 117.42,-67.5 122.5,-87 138.9,-149.99 117.55,-227.84 106.44,-261.36\"/>\n<text text-anchor=\"middle\" x=\"132\" y=\"-144.8\" font-family=\"Times,serif\" font-size=\"14.00\">1</text>\n</g>\n<!-- David&#45;&#45;Carl -->\n<g id=\"edge12\" class=\"edge\">\n<title>David&#45;&#45;Carl</title>\n<path fill=\"none\" stroke=\"black\" d=\"M219.67,-368.97C224.53,-349.19 232.48,-316.75 237.33,-296.99\"/>\n<text text-anchor=\"middle\" x=\"236\" y=\"-329.3\" font-family=\"Times,serif\" font-size=\"14.00\">1</text>\n</g>\n<!-- Ernst&#45;&#45;Frank -->\n<g id=\"edge9\" class=\"edge\">\n<title>Ernst&#45;&#45;Frank</title>\n<path fill=\"none\" stroke=\"black\" d=\"M172.51,-315.35C178.82,-300.77 188.6,-279.14 198.5,-261 208.47,-242.73 221.4,-222.69 230.46,-209.13\"/>\n<text text-anchor=\"middle\" x=\"202\" y=\"-275.3\" font-family=\"Times,serif\" font-size=\"14.00\">1</text>\n</g>\n</g>\n</svg>\n",
      "text/plain": [
       "<graphviz.sources.Source at 0x7f47a2d1fc50>"
      ]
     },
     "execution_count": 93,
     "metadata": {},
     "output_type": "execute_result"
    }
   ],
   "source": [
    "g = Graph()\n",
    "\n",
    "g.addEdgesFromList([[\"Alice\",\"Bob\"],\n",
    "                    [\"Bob\",\"Gail\"],\n",
    "                    [\"Irene\",\"Gail\"],\n",
    "                    [\"Carl\",\"Alice\"],\n",
    "                    [\"Gail\",\"Harry\"],\n",
    "                    [\"Irene\",\"Jen\"],\n",
    "                    [\"Alice\",\"David\"],\n",
    "                    [\"Harry\",\"Jen\"],\n",
    "                    [\"Ernst\",\"Frank\"],\n",
    "                    [\"Alice\",\"Ernst\"],\n",
    "                    [\"Jen\",\"Gail\"],\n",
    "                    [\"David\",\"Carl\"],\n",
    "                    [\"Alice\",\"Frank\"],\n",
    "                    [\"Harry\",\"Irene\"],\n",
    "                    [\"Carl\",\"Frank\"]])\n",
    "for id, value in zip(g.get_vertex_id(), g.get_vertexs_values()):\n",
    "    print(f\"ID: {id}, value: {value}\")\n",
    "graphviz.Source.from_file(\"graph.dot\")"
   ]
  },
  {
   "cell_type": "code",
   "execution_count": 94,
   "metadata": {},
   "outputs": [
    {
     "data": {
      "text/plain": [
       "{0: {'vertex': 'Alice', 'id_path': [0], 'weight': 0},\n",
       " 1: {'vertex': 'Bob', 'id_path': [0, 1], 'weight': 1},\n",
       " 2: {'vertex': 'Gail', 'id_path': [0, 1, 2], 'weight': 2},\n",
       " 3: {'vertex': 'Irene', 'id_path': [0, 1, 2, 3], 'weight': 3},\n",
       " 4: {'vertex': 'Carl', 'id_path': [0, 4], 'weight': 1},\n",
       " 5: {'vertex': 'Harry', 'id_path': [0, 1, 2, 5], 'weight': 3},\n",
       " 6: {'vertex': 'Jen', 'id_path': [0, 1, 2, 6], 'weight': 3},\n",
       " 7: {'vertex': 'David', 'id_path': [0, 7], 'weight': 1},\n",
       " 8: {'vertex': 'Ernst', 'id_path': [0, 8], 'weight': 1},\n",
       " 9: {'vertex': 'Frank', 'id_path': [0, 9], 'weight': 1}}"
      ]
     },
     "execution_count": 94,
     "metadata": {},
     "output_type": "execute_result"
    }
   ],
   "source": [
    "g.getShortestPaths(\"Alice\")"
   ]
  },
  {
   "cell_type": "code",
   "execution_count": 95,
   "metadata": {},
   "outputs": [
    {
     "data": {
      "image/svg+xml": "<?xml version=\"1.0\" encoding=\"UTF-8\" standalone=\"no\"?>\n<!DOCTYPE svg PUBLIC \"-//W3C//DTD SVG 1.1//EN\"\n \"http://www.w3.org/Graphics/SVG/1.1/DTD/svg11.dtd\">\n<!-- Generated by graphviz version 2.43.0 (0)\n -->\n<!-- Title: G Pages: 1 -->\n<svg width=\"147pt\" height=\"479pt\"\n viewBox=\"0.00 0.00 147.00 479.00\" xmlns=\"http://www.w3.org/2000/svg\" xmlns:xlink=\"http://www.w3.org/1999/xlink\">\n<g id=\"graph0\" class=\"graph\" transform=\"scale(1 1) rotate(0) translate(4 475)\">\n<title>G</title>\n<polygon fill=\"white\" stroke=\"transparent\" points=\"-4,4 -4,-475 143,-475 143,4 -4,4\"/>\n<!-- 0 -->\n<g id=\"node1\" class=\"node\">\n<title>0</title>\n<ellipse fill=\"none\" stroke=\"black\" cx=\"82\" cy=\"-453\" rx=\"27\" ry=\"18\"/>\n<text text-anchor=\"middle\" x=\"82\" y=\"-449.3\" font-family=\"Times,serif\" font-size=\"14.00\">0</text>\n</g>\n<!-- 1 -->\n<g id=\"node2\" class=\"node\">\n<title>1</title>\n<ellipse fill=\"none\" stroke=\"black\" cx=\"27\" cy=\"-366\" rx=\"27\" ry=\"18\"/>\n<text text-anchor=\"middle\" x=\"27\" y=\"-362.3\" font-family=\"Times,serif\" font-size=\"14.00\">1</text>\n</g>\n<!-- 0&#45;&#45;1 -->\n<g id=\"edge1\" class=\"edge\">\n<title>0&#45;&#45;1</title>\n<path fill=\"none\" stroke=\"black\" d=\"M71.65,-436.01C61.82,-420.82 47.12,-398.09 37.3,-382.92\"/>\n<text text-anchor=\"middle\" x=\"61.5\" y=\"-405.8\" font-family=\"Times,serif\" font-size=\"14.00\">4</text>\n</g>\n<!-- 3 -->\n<g id=\"node4\" class=\"node\">\n<title>3</title>\n<ellipse fill=\"none\" stroke=\"black\" cx=\"70\" cy=\"-192\" rx=\"27\" ry=\"18\"/>\n<text text-anchor=\"middle\" x=\"70\" y=\"-188.3\" font-family=\"Times,serif\" font-size=\"14.00\">3</text>\n</g>\n<!-- 0&#45;&#45;3 -->\n<g id=\"edge5\" class=\"edge\">\n<title>0&#45;&#45;3</title>\n<path fill=\"none\" stroke=\"black\" d=\"M81.21,-435.01C79.04,-388.08 72.97,-257.06 70.79,-210.06\"/>\n<text text-anchor=\"middle\" x=\"79.5\" y=\"-318.8\" font-family=\"Times,serif\" font-size=\"14.00\">5</text>\n</g>\n<!-- 5 -->\n<g id=\"node6\" class=\"node\">\n<title>5</title>\n<ellipse fill=\"none\" stroke=\"black\" cx=\"98\" cy=\"-18\" rx=\"27\" ry=\"18\"/>\n<text text-anchor=\"middle\" x=\"98\" y=\"-14.3\" font-family=\"Times,serif\" font-size=\"14.00\">5</text>\n</g>\n<!-- 0&#45;&#45;5 -->\n<g id=\"edge6\" class=\"edge\">\n<title>0&#45;&#45;5</title>\n<path fill=\"none\" stroke=\"black\" d=\"M94.9,-437.17C107.57,-421.05 125,-393.96 125,-367 125,-367 125,-367 125,-104 125,-79.07 114.32,-51.88 106.39,-35.13\"/>\n<text text-anchor=\"middle\" x=\"132\" y=\"-231.8\" font-family=\"Times,serif\" font-size=\"14.00\">20</text>\n</g>\n<!-- 2 -->\n<g id=\"node3\" class=\"node\">\n<title>2</title>\n<ellipse fill=\"none\" stroke=\"black\" cx=\"27\" cy=\"-279\" rx=\"27\" ry=\"18\"/>\n<text text-anchor=\"middle\" x=\"27\" y=\"-275.3\" font-family=\"Times,serif\" font-size=\"14.00\">2</text>\n</g>\n<!-- 1&#45;&#45;2 -->\n<g id=\"edge7\" class=\"edge\">\n<title>1&#45;&#45;2</title>\n<path fill=\"none\" stroke=\"black\" d=\"M27,-347.8C27,-333.05 27,-311.92 27,-297.18\"/>\n<text text-anchor=\"middle\" x=\"30.5\" y=\"-318.8\" font-family=\"Times,serif\" font-size=\"14.00\">1</text>\n</g>\n<!-- 2&#45;&#45;3 -->\n<g id=\"edge2\" class=\"edge\">\n<title>2&#45;&#45;3</title>\n<path fill=\"none\" stroke=\"black\" d=\"M35.29,-261.61C42.91,-246.56 54.13,-224.37 61.73,-209.34\"/>\n<text text-anchor=\"middle\" x=\"55.5\" y=\"-231.8\" font-family=\"Times,serif\" font-size=\"14.00\">1</text>\n</g>\n<!-- 4 -->\n<g id=\"node5\" class=\"node\">\n<title>4</title>\n<ellipse fill=\"none\" stroke=\"black\" cx=\"70\" cy=\"-105\" rx=\"27\" ry=\"18\"/>\n<text text-anchor=\"middle\" x=\"70\" y=\"-101.3\" font-family=\"Times,serif\" font-size=\"14.00\">4</text>\n</g>\n<!-- 2&#45;&#45;4 -->\n<g id=\"edge8\" class=\"edge\">\n<title>2&#45;&#45;4</title>\n<path fill=\"none\" stroke=\"black\" d=\"M22.01,-260.94C16.72,-239.93 10.35,-203.4 20,-174 26.9,-152.98 43.05,-133.1 55.15,-120.32\"/>\n<text text-anchor=\"middle\" x=\"27\" y=\"-188.3\" font-family=\"Times,serif\" font-size=\"14.00\">15</text>\n</g>\n<!-- 3&#45;&#45;4 -->\n<g id=\"edge3\" class=\"edge\">\n<title>3&#45;&#45;4</title>\n<path fill=\"none\" stroke=\"black\" d=\"M70,-173.8C70,-159.05 70,-137.92 70,-123.18\"/>\n<text text-anchor=\"middle\" x=\"73.5\" y=\"-144.8\" font-family=\"Times,serif\" font-size=\"14.00\">1</text>\n</g>\n<!-- 4&#45;&#45;5 -->\n<g id=\"edge4\" class=\"edge\">\n<title>4&#45;&#45;5</title>\n<path fill=\"none\" stroke=\"black\" d=\"M75.53,-87.21C80.44,-72.31 87.57,-50.65 92.48,-35.76\"/>\n<text text-anchor=\"middle\" x=\"88.5\" y=\"-57.8\" font-family=\"Times,serif\" font-size=\"14.00\">1</text>\n</g>\n</g>\n</svg>\n",
      "text/plain": [
       "<graphviz.sources.Source at 0x7f47dc219910>"
      ]
     },
     "execution_count": 95,
     "metadata": {},
     "output_type": "execute_result"
    }
   ],
   "source": [
    "\n",
    "g = Graph()\n",
    "g.addEdgesFromList([[\"0\",\"1\",4],\n",
    "                    [\"2\",\"3\",1],\n",
    "                    [\"3\",\"4\",1],\n",
    "                    [\"4\",\"5\",1],\n",
    "                    [\"0\",\"3\",5],\n",
    "                    [\"0\",\"5\",20],\n",
    "                    [\"1\",\"2\",1],\n",
    "                    [\"2\",\"4\",15]\n",
    "                    ])\n",
    "Graph.saveGraph(g, name=\"graph_2.dot\")\n",
    "graphviz.Source.from_file(\"graph_2.dot\")"
   ]
  },
  {
   "cell_type": "code",
   "execution_count": 96,
   "metadata": {},
   "outputs": [
    {
     "data": {
      "text/plain": [
       "{0: {'vertex': '0', 'id_path': [1, 0], 'weight': 4},\n",
       " 1: {'vertex': '1', 'id_path': [1], 'weight': 0},\n",
       " 2: {'vertex': '2', 'id_path': [1, 2], 'weight': 1},\n",
       " 3: {'vertex': '3', 'id_path': [1, 2, 3], 'weight': 2},\n",
       " 4: {'vertex': '4', 'id_path': [1, 2, 3, 4], 'weight': 3},\n",
       " 5: {'vertex': '5', 'id_path': [1, 2, 3, 4, 5], 'weight': 4}}"
      ]
     },
     "execution_count": 96,
     "metadata": {},
     "output_type": "execute_result"
    }
   ],
   "source": [
    "g.getShortestPaths(\"1\")"
   ]
  },
  {
   "cell_type": "code",
   "execution_count": 97,
   "metadata": {},
   "outputs": [
    {
     "name": "stdout",
     "output_type": "stream",
     "text": [
      "graph G {\n",
      "   \"0\";\n",
      "   \"1\";\n",
      "   \"2\";\n",
      "   \"3\";\n",
      "   \"4\";\n",
      "   \"5\";\n",
      "   \"0\" -- \"1\" [ label = \"4\" ];\n",
      "   \"2\" -- \"3\" [ label = \"1\" ];\n",
      "   \"3\" -- \"4\" [ label = \"1\" ];\n",
      "   \"4\" -- \"5\" [ label = \"1\" ];\n",
      "   \"0\" -- \"3\" [ label = \"5\" ];\n",
      "   \"0\" -- \"5\" [ label = \"20\" ];\n",
      "   \"1\" -- \"2\" [ label = \"1\" ];\n",
      "   \"2\" -- \"4\" [ label = \"15\" ];\n",
      "}\n"
     ]
    }
   ],
   "source": [
    "print(str(g))"
   ]
  }
 ],
 "metadata": {
  "kernelspec": {
   "display_name": "Python 3",
   "language": "python",
   "name": "python3"
  },
  "language_info": {
   "codemirror_mode": {
    "name": "ipython",
    "version": 3
   },
   "file_extension": ".py",
   "mimetype": "text/x-python",
   "name": "python",
   "nbconvert_exporter": "python",
   "pygments_lexer": "ipython3",
   "version": "3.11.0rc1"
  },
  "orig_nbformat": 4,
  "vscode": {
   "interpreter": {
    "hash": "ead1b95f633dc9c51826328e1846203f51a198c6fb5f2884a80417ba131d4e82"
   }
  }
 },
 "nbformat": 4,
 "nbformat_minor": 2
}
