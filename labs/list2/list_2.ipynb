{
 "cells": [
  {
   "cell_type": "code",
   "execution_count": 2,
   "metadata": {},
   "outputs": [],
   "source": [
    "import warnings\n",
    "import numpy as np\n",
    "import matplotlib.pyplot as plt\n",
    "from numbers import Number\n",
    "from typing import Any, List\n"
   ]
  },
  {
   "cell_type": "code",
   "execution_count": 5,
   "metadata": {},
   "outputs": [],
   "source": [
    "import warnings\n",
    "import numpy as np\n",
    "import matplotlib.pyplot as plt\n",
    "from numbers import Number\n",
    "from typing import Any, List"
   ]
  },
  {
   "attachments": {},
   "cell_type": "markdown",
   "metadata": {},
   "source": [
    "# Code"
   ]
  },
  {
   "cell_type": "code",
   "execution_count": 10,
   "metadata": {},
   "outputs": [],
   "source": [
    "def ID_Generator():\n",
    "    \"\"\"Generator of IDs used as vertex IDs inside a graph class.\n",
    "\n",
    "    The generator produces a sequence of consecutive non-negative integers,\n",
    "    starting from zero.\n",
    "\n",
    "    \"\"\"\n",
    "    num = 0\n",
    "    while True:\n",
    "        yield num\n",
    "        num += 1\n",
    "\n",
    "\n",
    "class Vertex:\n",
    "    \"\"\"Class representing a vertex in a graph.\n",
    "\n",
    "    Attributes:\n",
    "        value (Any): The value associated with the vertex.\n",
    "        ID (int): The unique identifier of the vertex.\n",
    "        edges (List[Edge]): The list of edges connected to the vertex.\n",
    "\n",
    "    Methods:\n",
    "        __init__(value: Any, ID: int) -> None:\n",
    "            Initializes a vertex with the given value and ID.\n",
    "\n",
    "        get_value() -> Any:\n",
    "            Returns the value associated with the vertex.\n",
    "\n",
    "        get_ID() -> int:\n",
    "            Returns the unique identifier of the vertex.\n",
    "\n",
    "        get_edges() -> List[Edge]:\n",
    "            Returns the list of edges connected to the vertex.\n",
    "\n",
    "        add_edge(edge: Edge) -> None:\n",
    "            Adds the given edge to the list of edges connected to the vertex.\n",
    "    \"\"\"\n",
    "\n",
    "    def __init__(self, value: Any, ID: int) -> None:\n",
    "        \"\"\"Initializes a vertex with the given value and ID.\n",
    "\n",
    "        Args:\n",
    "            value: The value associated with the vertex.\n",
    "            ID: The unique identifier of the vertex.\n",
    "        \"\"\"\n",
    "        self.value = value\n",
    "        self.edges = []\n",
    "        self.ID = ID\n",
    "\n",
    "    def get_value(self) -> Any:\n",
    "        \"\"\"Returns the value associated with the vertex.\n",
    "\n",
    "        Returns:\n",
    "            The value associated with the vertex.\n",
    "        \"\"\"\n",
    "        return self.value\n",
    "\n",
    "    def get_ID(self) -> int:\n",
    "        \"\"\"Returns the unique identifier of the vertex.\n",
    "\n",
    "        Returns:\n",
    "            The unique identifier of the vertex.\n",
    "        \"\"\"\n",
    "        return self.ID\n",
    "\n",
    "    def get_edges(self) -> List['Edge']:\n",
    "        \"\"\"Returns the list of edges connected to the vertex.\n",
    "\n",
    "        Returns:\n",
    "            The list of edges connected to the vertex.\n",
    "        \"\"\"\n",
    "        return self.edges\n",
    "\n",
    "    def add_edge(self, edge: 'Edge') -> None:\n",
    "        \"\"\"Adds the given edge to the list of edges connected to the vertex.\n",
    "\n",
    "        Args:\n",
    "            edge: The edge to add.\n",
    "        \"\"\"\n",
    "        self.edges.append(edge)\n",
    "\n",
    "\n",
    "class Edge:\n",
    "    \"\"\"Class representing an edge in a graph.\n",
    "\n",
    "    Attributes:\n",
    "        startpoint (Vertex): The vertex at the start of the edge.\n",
    "        endpoint (Vertex): The vertex at the end of the edge.\n",
    "        weight (Number): The weight of the edge (default: 1).\n",
    "\n",
    "    Methods:\n",
    "        __init__(startpoint: Vertex, endpoint: Vertex, weight: Number = 1) -> None:\n",
    "            Initializes an edge with the given startpoint, endpoint, and weight.\n",
    "\n",
    "        get_endpoint() -> Vertex:\n",
    "            Returns the vertex at the end of the edge.\n",
    "\n",
    "        get_IDs() -> List[int]:\n",
    "            Returns the IDs of the startpoint and endpoint vertices.\n",
    "\n",
    "        get_values() -> List[Any]:\n",
    "            Returns the values of the startpoint and endpoint vertices.\n",
    "\n",
    "        get_weight() -> Number:\n",
    "            Returns the weight of the edge.\n",
    "    \"\"\"\n",
    "\n",
    "    def __init__(self, startpoint: Vertex, endpoint: Vertex, weight: Number = 1) -> None:\n",
    "        \"\"\"Initializes an edge with the given startpoint, endpoint, and weight.\n",
    "\n",
    "        Args:\n",
    "            startpoint: The vertex at the start of the edge.\n",
    "            endpoint: The vertex at the end of the edge.\n",
    "            weight: The weight of the edge (default: 1).\n",
    "        \"\"\"\n",
    "        self.startpoint = startpoint\n",
    "        self.endpoint = endpoint\n",
    "        self.weight = weight\n",
    "\n",
    "    def get_endpoint(self) -> Vertex:\n",
    "        \"\"\"Returns the vertex at the end of the edge.\n",
    "\n",
    "        Returns:\n",
    "            The vertex at the end of the edge.\n",
    "        \"\"\"\n",
    "        return self.endpoint\n",
    "\n",
    "    def get_IDs(self) -> List[int]:\n",
    "        \"\"\"Returns the IDs of the startpoint and endpoint vertices.\n",
    "\n",
    "        Returns:\n",
    "            A list containing the IDs of the startpoint and endpoint vertices.\n",
    "        \"\"\"\n",
    "        return [self.startpoint.get_ID(), self.endpoint.get_ID()]\n",
    "\n",
    "    def get_values(self) -> List[Any]:\n",
    "        \"\"\"Returns the values of the startpoint and endpoint vertices.\n",
    "\n",
    "        Returns:\n",
    "            A list containing the values of the startpoint and endpoint vertices.\n",
    "        \"\"\"\n",
    "        return [self.startpoint.get_value(), self.endpoint.get_value()]\n",
    "\n",
    "    def get_weight(self) -> Number:\n",
    "        \"\"\"Returns the weight of the edge.\n",
    "\n",
    "        Returns:\n",
    "            The weight of the edge.\n",
    "        \"\"\"\n",
    "        return self.weight\n",
    "\n",
    "\n",
    "class Graph:\n",
    "    \"\"\"\n",
    "    A class representing a graph.\n",
    "\n",
    "    Attributes:\n",
    "    vertices (list): A list of vertices in the graph.\n",
    "    edges (list): A list of edges in the graph.\n",
    "    edges_by_id (dict): A dictionary of edges indexed by their ID.\n",
    "    ID_gen (ID_Generator): An instance of ID_Generator class used to generate IDs.\n",
    "    name_id_dict (dict): A dictionary of vertex names indexed by their ID.\n",
    "    id_vertex_dict (dict): A dictionary of vertices indexed by their ID.\n",
    "\n",
    "    Methods:\n",
    "    addVertex(vert: str) -> None:\n",
    "        Adds a vertex to the graph.\n",
    "\n",
    "    get_vertexs_values() -> list:\n",
    "        Returns a list of vertex values in the graph.\n",
    "    \"\"\"\n",
    "    \n",
    "    def __init__(self) -> None:\n",
    "        self.vertices = []\n",
    "        self.edges = []\n",
    "        self.edges_by_id = {}\n",
    "        self.ID_gen = ID_Generator()\n",
    "        self.name_id_dict = {}\n",
    "        self.id_vertex_dict = {}\n",
    "\n",
    "    def addVertex(self, vert: str) -> None:\n",
    "        Vert = Vertex(vert, next(self.ID_gen))\n",
    "        if vert in self.name_id_dict:\n",
    "            self.name_id_dict[Vert.get_value()].append(Vert.get_ID())\n",
    "            warnings.warn(f\"There are {len(self.name_id_dict[Vert.get_value()])} vertex with the same value:{Vert.get_value()} in the graph.\", Warning)\n",
    "        else:\n",
    "            self.name_id_dict[Vert.get_value()] = [Vert.get_ID()]\n",
    "        self.id_vertex_dict[Vert.get_ID()] = Vert\n",
    "        self.vertices.append(Vert)\n",
    "\n",
    "    def get_vertexs_values(self):\n",
    "        return [verex.get_value() for verex in self.vertices]"
   ]
  },
  {
   "attachments": {},
   "cell_type": "markdown",
   "metadata": {},
   "source": [
    "# testy"
   ]
  },
  {
   "cell_type": "code",
   "execution_count": 11,
   "metadata": {},
   "outputs": [
    {
     "data": {
      "text/plain": [
       "['A', 'B', 'C']"
      ]
     },
     "execution_count": 11,
     "metadata": {},
     "output_type": "execute_result"
    }
   ],
   "source": [
    "g = Graph()\n",
    "g.addVertex(\"A\")\n",
    "g.addVertex(\"B\")\n",
    "g.addVertex(\"C\")\n",
    "g.get_vertexs_values()"
   ]
  },
  {
   "cell_type": "code",
   "execution_count": 12,
   "metadata": {},
   "outputs": [
    {
     "name": "stderr",
     "output_type": "stream",
     "text": [
      "/tmp/ipykernel_104794/3959064314.py:185: Warning: There are 2 vertex with the same value:A in the graph.\n",
      "  warnings.warn(f\"There are {len(self.name_id_dict[Vert.get_value()])} vertex with the same value:{Vert.get_value()} in the graph.\", Warning)\n"
     ]
    },
    {
     "data": {
      "text/plain": [
       "['A', 'A', 'C']"
      ]
     },
     "execution_count": 12,
     "metadata": {},
     "output_type": "execute_result"
    }
   ],
   "source": [
    "g = Graph()\n",
    "g.addVertex(\"A\")\n",
    "g.addVertex(\"A\")\n",
    "g.addVertex(\"C\")\n",
    "g.get_vertexs_values()"
   ]
  }
 ],
 "metadata": {
  "kernelspec": {
   "display_name": "Python 3",
   "language": "python",
   "name": "python3"
  },
  "language_info": {
   "codemirror_mode": {
    "name": "ipython",
    "version": 3
   },
   "file_extension": ".py",
   "mimetype": "text/x-python",
   "name": "python",
   "nbconvert_exporter": "python",
   "pygments_lexer": "ipython3",
   "version": "3.11.0rc1"
  },
  "orig_nbformat": 4,
  "vscode": {
   "interpreter": {
    "hash": "ead1b95f633dc9c51826328e1846203f51a198c6fb5f2884a80417ba131d4e82"
   }
  }
 },
 "nbformat": 4,
 "nbformat_minor": 2
}
