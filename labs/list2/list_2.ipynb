{
 "cells": [
  {
   "cell_type": "code",
   "execution_count": 332,
   "metadata": {},
   "outputs": [],
   "source": [
    "import warnings\n",
    "import numpy as np\n",
    "import matplotlib.pyplot as plt\n",
    "from numbers import Number\n",
    "from typing import Any, List\n"
   ]
  },
  {
   "cell_type": "code",
   "execution_count": 333,
   "metadata": {},
   "outputs": [],
   "source": [
    "import warnings\n",
    "import numpy as np\n",
    "import matplotlib.pyplot as plt\n",
    "from numbers import Number\n",
    "from typing import Any, List"
   ]
  },
  {
   "attachments": {},
   "cell_type": "markdown",
   "metadata": {},
   "source": [
    "# Code"
   ]
  },
  {
   "cell_type": "code",
   "execution_count": 348,
   "metadata": {},
   "outputs": [],
   "source": [
    "def ID_Generator():\n",
    "    \"\"\"Generator of IDs used as vertex IDs inside a graph class.\n",
    "\n",
    "    The generator produces a sequence of consecutive non-negative integers,\n",
    "    starting from zero.\n",
    "\n",
    "    \"\"\"\n",
    "    num = 0\n",
    "    while True:\n",
    "        yield num\n",
    "        num += 1\n",
    "\n",
    "\n",
    "class Vertex:\n",
    "    \"\"\"Class representing a vertex in a graph.\n",
    "\n",
    "    Attributes:\n",
    "        value (Any): The value associated with the vertex.\n",
    "        ID (int): The unique identifier of the vertex.\n",
    "        edges (List[Edge]): The list of edges connected to the vertex.\n",
    "\n",
    "    Methods:\n",
    "        __init__(value: Any, ID: int) -> None:\n",
    "            Initializes a vertex with the given value and ID.\n",
    "\n",
    "        get_value() -> Any:\n",
    "            Returns the value associated with the vertex.\n",
    "\n",
    "        get_ID() -> int:\n",
    "            Returns the unique identifier of the vertex.\n",
    "\n",
    "        get_edges() -> List[Edge]:\n",
    "            Returns the list of edges connected to the vertex.\n",
    "\n",
    "        add_edge(edge: Edge) -> None:\n",
    "            Adds the given edge to the list of edges connected to the vertex.\n",
    "    \"\"\"\n",
    "\n",
    "    def __init__(self, value: Any, ID: int) -> None:\n",
    "        \"\"\"Initializes a vertex with the given value and ID.\n",
    "\n",
    "        Args:\n",
    "            value: The value associated with the vertex.\n",
    "            ID: The unique identifier of the vertex.\n",
    "        \"\"\"\n",
    "        self.value = value\n",
    "        self.edges = []\n",
    "        self.ID = ID\n",
    "\n",
    "    def get_value(self) -> Any:\n",
    "        \"\"\"Returns the value associated with the vertex.\n",
    "\n",
    "        Returns:\n",
    "            The value associated with the vertex.\n",
    "        \"\"\"\n",
    "        return self.value\n",
    "\n",
    "    def get_ID(self) -> int:\n",
    "        \"\"\"Returns the unique identifier of the vertex.\n",
    "\n",
    "        Returns:\n",
    "            The unique identifier of the vertex.\n",
    "        \"\"\"\n",
    "        return self.ID\n",
    "\n",
    "    def get_edges(self) -> List['Edge']:\n",
    "        \"\"\"Returns the list of edges connected to the vertex.\n",
    "\n",
    "        Returns:\n",
    "            The list of edges connected to the vertex.\n",
    "        \"\"\"\n",
    "        return self.edges\n",
    "\n",
    "    def add_edge(self, edge: 'Edge') -> None:\n",
    "        \"\"\"Adds the given edge to the list of edges connected to the vertex.\n",
    "\n",
    "        Args:\n",
    "            edge: The edge to add.\n",
    "        \"\"\"\n",
    "        self.edges.append(edge)\n",
    "\n",
    "\n",
    "class Edge:\n",
    "    \"\"\"Class representing an edge in a graph.\n",
    "\n",
    "    Attributes:\n",
    "        startpoint (Vertex): The vertex at the start of the edge.\n",
    "        endpoint (Vertex): The vertex at the end of the edge.\n",
    "        weight (Number): The weight of the edge (default: 1).\n",
    "\n",
    "    Methods:\n",
    "        __init__(startpoint: Vertex, endpoint: Vertex, weight: Number = 1) -> None:\n",
    "            Initializes an edge with the given startpoint, endpoint, and weight.\n",
    "\n",
    "        get_endpoint() -> Vertex:\n",
    "            Returns the vertex at the end of the edge.\n",
    "\n",
    "        get_IDs() -> List[int]:\n",
    "            Returns the IDs of the startpoint and endpoint vertices.\n",
    "\n",
    "        get_values() -> List[Any]:\n",
    "            Returns the values of the startpoint and endpoint vertices.\n",
    "\n",
    "        get_weight() -> Number:\n",
    "            Returns the weight of the edge.\n",
    "    \"\"\"\n",
    "\n",
    "    def __init__(self, startpoint: Vertex, endpoint: Vertex, weight: Number = 1) -> None:\n",
    "        \"\"\"Initializes an edge with the given startpoint, endpoint, and weight.\n",
    "\n",
    "        Args:\n",
    "            startpoint: The vertex at the start of the edge.\n",
    "            endpoint: The vertex at the end of the edge.\n",
    "            weight: The weight of the edge (default: 1).\n",
    "        \"\"\"\n",
    "        self.startpoint = startpoint\n",
    "        self.endpoint = endpoint\n",
    "        self.weight = weight\n",
    "\n",
    "    def get_endpoint(self) -> Vertex:\n",
    "        \"\"\"Returns the vertex at the end of the edge.\n",
    "\n",
    "        Returns:\n",
    "            The vertex at the end of the edge.\n",
    "        \"\"\"\n",
    "        return self.endpoint\n",
    "\n",
    "    def get_IDs(self) -> List[int]:\n",
    "        \"\"\"Returns the IDs of the startpoint and endpoint vertices.\n",
    "\n",
    "        Returns:\n",
    "            A list containing the IDs of the startpoint and endpoint vertices.\n",
    "        \"\"\"\n",
    "        return [self.startpoint.get_ID(), self.endpoint.get_ID()]\n",
    "\n",
    "    def get_values(self) -> List[Any]:\n",
    "        \"\"\"Returns the values of the startpoint and endpoint vertices.\n",
    "\n",
    "        Returns:\n",
    "            A list containing the values of the startpoint and endpoint vertices.\n",
    "        \"\"\"\n",
    "        return [self.startpoint.get_value(), self.endpoint.get_value()]\n",
    "\n",
    "    def get_weight(self) -> Number:\n",
    "        \"\"\"Returns the weight of the edge.\n",
    "\n",
    "        Returns:\n",
    "            The weight of the edge.\n",
    "        \"\"\"\n",
    "        return self.weight\n",
    "\n",
    "\n",
    "class Graph:\n",
    "    \"\"\"\n",
    "    A class representing a graph.\n",
    "\n",
    "    Attributes:\n",
    "    vertices (list): A list of vertices in the graph.\n",
    "    edges (list): A list of edges in the graph.\n",
    "    edges_by_id (dict): A dictionary of edges indexed by their ID.\n",
    "    ID_gen (ID_Generator): An instance of ID_Generator class used to generate IDs.\n",
    "    name_id_dict (dict): A dictionary of vertex names indexed by their ID.\n",
    "    id_vertex_dict (dict): A dictionary of vertices indexed by their ID.\n",
    "\n",
    "    Methods:\n",
    "    addVertex(vert: str) -> None:\n",
    "        Adds a vertex to the graph.\n",
    "\n",
    "    addVerticesFromList(vertex_list: list) -> None:\n",
    "        Adds a list of vertices to the graph.\n",
    "    \n",
    "    get_vertexs_values() -> list:\n",
    "        Returns a list of vertex values in the graph.\n",
    "        \n",
    "    get_vertex_id(self) -> List:\n",
    "        Returns a list of IDs of all vertices in the graph.\n",
    "        \n",
    "    get_id_names_maping() -> dict:\n",
    "        Returns a dictionary that maps values to their IDs.\n",
    "\n",
    "    addEdgesFromList(edgeList: list) -> None:\n",
    "        Adds a list of edges to the graph.\n",
    "\n",
    "    getVertices() -> list:\n",
    "        Returns a list of vertices in the graph.\n",
    "    \n",
    "    getEdges() -> list:\n",
    "        Returns a list of edges in the graph.\n",
    "        \n",
    "    __contains__(vertKey: str | list[str, int] | Vertex) -> bool:\n",
    "        Returns True if a vertex exists in the graph, False otherwise.\n",
    "    \n",
    "    \"\"\"\n",
    "    \n",
    "    def __init__(self) -> None:\n",
    "        self.vertices = []\n",
    "        self.edges = []\n",
    "        self.edges_by_id = {}\n",
    "        self.ID_gen = ID_Generator()\n",
    "        self.name_id_dict = {}\n",
    "        self.id_vertex_dict = {}\n",
    "\n",
    "    def addVertex(self, vert: str) -> None:\n",
    "        Vert = Vertex(vert, next(self.ID_gen))\n",
    "        if vert in self.name_id_dict:\n",
    "            self.name_id_dict[Vert.get_value()].append(Vert.get_ID())\n",
    "            warnings.warn(f\"There are {len(self.name_id_dict[Vert.get_value()])} vertex with the same value:{Vert.get_value()} in the graph.\", Warning)\n",
    "        else:\n",
    "            self.name_id_dict[Vert.get_value()] = [Vert.get_ID()]\n",
    "        self.id_vertex_dict[Vert.get_ID()] = Vert\n",
    "        self.vertices.append(Vert)\n",
    "\n",
    "    def addVerticesFromList(self, vertex_list: list):\n",
    "        for vert in vertex_list:\n",
    "            self.addVertex(vert)\n",
    "\n",
    "    \n",
    "    def get_vertexs_values(self):\n",
    "        return [verex.get_value() for verex in self.vertices]\n",
    "\n",
    "    def get_vertex_id(self):\n",
    "        return [vert.get_ID() for vert in self.vertices]\n",
    "    \n",
    "    def get_id_names_maping(self):\n",
    "        end_name_id_map = {}\n",
    "        name_id_dict = self.name_id_dict\n",
    "        for id in name_id_dict:\n",
    "            if len(name_id_dict[id]) == 1:\n",
    "                end_name_id_map[name_id_dict[id][0]] = id\n",
    "            else:\n",
    "                for j, _ in enumerate(name_id_dict[id]):\n",
    "                    end_name_id_map[name_id_dict[id][j]] = [id, j]\n",
    "        return end_name_id_map\n",
    "    \n",
    "    def addEdge(self, fromVert: str | list[str, int], toVert: str | list[str, int], weight: Number = 1):\n",
    "        if type(fromVert) is list:\n",
    "            name, order = fromVert\n",
    "            fromVert_id = self.name_id_dict[name][order]\n",
    "        elif fromVert in self.name_id_dict:\n",
    "            if len(self.name_id_dict[fromVert]) == 1:\n",
    "                fromVert_id = self.name_id_dict[fromVert][0]\n",
    "            else:\n",
    "                raise ValueError(f\"There are {len(self.name_id_dict[fromVert])} vertices in the graph named '{fromVert}', please use as argument fromVert = ['{fromVert}', order].\")\n",
    "        else:\n",
    "            self.addVertex(fromVert)\n",
    "            fromVert_id = self.name_id_dict[fromVert][-1]\n",
    "\n",
    "        if type(toVert) is list:\n",
    "            name, order = toVert\n",
    "            toVert_id = self.name_id_dict[name][order]\n",
    "        elif toVert in self.name_id_dict:\n",
    "            if len(self.name_id_dict[toVert]) == 1:\n",
    "                toVert_id = self.name_id_dict[toVert][0]\n",
    "            else:\n",
    "                raise ValueError(f\"There are {len(self.name_id_dict[toVert])} vertices in the graph named '{toVert}', please use as argument toVert = ['{toVert}', order].\")\n",
    "        else:\n",
    "            self.addVertex(toVert)\n",
    "            toVert_id = self.name_id_dict[toVert][-1]\n",
    "\n",
    "        if (fromVert_id, toVert_id) in self.edges_by_id or (toVert_id, fromVert_id) in self.edges_by_id:\n",
    "            warnings.warn(\"You are trying to add an existing edge.\", Warning)\n",
    "            if self.edges_by_id[(fromVert_id, toVert_id)].get_weight() != weight:\n",
    "                self.edges_by_id[(fromVert_id, toVert_id)].weight = weight\n",
    "                self.edges_by_id[(toVert_id, fromVert_id)].weight = weight\n",
    "                warnings.warn(\"You updat the weight value of edge [fromVert, toVert].\", Warning)\n",
    "\n",
    "        else:\n",
    "\n",
    "            fromVertex = self.id_vertex_dict[fromVert_id]\n",
    "            toVertex = self.id_vertex_dict[toVert_id]\n",
    "            edge1 = Edge(fromVertex, toVertex, weight)\n",
    "            edge2 = Edge(toVertex, fromVertex, weight)\n",
    "            self.edges.extend([edge1, edge2])\n",
    "            self.edges_by_id[(fromVert_id, toVert_id)] = edge1\n",
    "            self.edges_by_id[(toVert_id, fromVert_id)] = edge2\n",
    "\n",
    "            fromVertex.add_edge(edge1)\n",
    "            toVertex.add_edge(edge2)\n",
    "            \n",
    "    def addEdgesFromList(self, edgeList: list):\n",
    "        for edge in edgeList:\n",
    "            self.addEdge(*edge)\n",
    "    \n",
    "    def getVertices(self):\n",
    "        return self.vertices\n",
    "\n",
    "    def getEdges(self):\n",
    "            return self.edges\n",
    "    \n",
    "    def getNeighbors(self, vertKey: str | list[str, int] | Vertex):\n",
    "        if type(vertKey) is Vertex:\n",
    "            return vertKey.edges\n",
    "        elif type(vertKey) is list:\n",
    "            name, order = vertKey\n",
    "            Vert_id = self.name_id_dict[name][order]\n",
    "            return [edge.get_endpoint() for edge in self.id_vertex_dict[Vert_id].edges]\n",
    "        else:\n",
    "            if len(self.name_id_dict[vertKey]) == 1:\n",
    "                Vert_id = self.name_id_dict[vertKey][0]\n",
    "                return [edge.get_endpoint() for edge in self.id_vertex_dict[Vert_id].edges]\n",
    "            else:\n",
    "                raise ValueError(f\"There are {len(self.name_id_dict[Vert_id])} vertices in the graph named '{vertKey}', please use as argument vertKey = ['{vertKey}', order].\")\n",
    "    \n",
    "    def __contains__(self, vertKey: str | list[str, int] | Vertex):\n",
    "        if type(vertKey) is Vertex:\n",
    "            return vertKey in self.vertices\n",
    "\n",
    "        elif type(vertKey) is list:\n",
    "            name, order = vertKey\n",
    "            try:\n",
    "                id = self.name_id_dict[name][order]\n",
    "                if self.id_vertex_dict[id]: return True\n",
    "            except:\n",
    "                return False\n",
    "        else:\n",
    "            if vertKey in self.name_id_dict:\n",
    "                if len(self.name_id_dict[vertKey]) == 1:\n",
    "                    Vert_id = self.name_id_dict[vertKey][0]\n",
    "                    return self.id_vertex_dict[Vert_id].edges\n",
    "                else:\n",
    "                    raise ValueError(f\"There are {len(self.name_id_dict[vertKey])} vertices in the graph named '{vertKey}', please use as argument vertKey = ['{vertKey}', order].\")\n",
    "\n",
    "    @staticmethod\n",
    "    def saveGraph(graph: Graph): \n",
    "        end_name_id_map = graph.get_id_names_maping()\n",
    "        notes_id = graph.get_vertex_id()\n",
    "        notes_names = [end_name_id_map[id] for id in notes_id]\n",
    "        \n",
    "        edges_ids = {}\n",
    "        edges_by_id = g.edges_by_id\n",
    "        for ids in edges_by_id:\n",
    "            if not (ids in edges_ids or ids[::-1] in edges_ids):\n",
    "                edges_ids[ids] = {\"weight\":edges_by_id[ids].get_weight()}\n",
    "        \n",
    "        with open(\"graph.dot\", \"w\") as f:\n",
    "            f.write(\"graph G {\\n\")\n",
    "            for name in notes_names:\n",
    "                f.write(f'   \"{name}\";\\n')\n",
    "            for edge_ids in edges_ids:\n",
    "                    f.write(f'   \"{end_name_id_map[edge_ids[0]]}\" -- \"{end_name_id_map[edge_ids[1]]}\" [ label = \"{edges_ids[edge_ids][\"weight\"]}\" ];\\n')\n",
    "            f.write(\"}\")\n",
    "\n",
    "    def getShortestPaths(self, fromVert: str|list[str,int]):\n",
    "        end_name_id_map = self.get_id_names_maping()\n",
    "        x = [id for id in end_name_id_map if fromVert == end_name_id_map[id]][0]\n",
    "        id_vertex_dict = self.id_vertex_dict\n",
    "        Q = [id for id in id_vertex_dict]\n",
    "        info = {id:{\"vertex\": end_name_id_map[id],\n",
    "                    \"id_path\": [],\n",
    "                    \"weight\": np.inf\n",
    "                    }\n",
    "                for id in id_vertex_dict}\n",
    "        info[x][\"id_path\"].append(x)\n",
    "        info[x][\"weight\"] = 0\n",
    "        while True:\n",
    "            Q.sort(key= lambda id: info[id][\"weight\"])\n",
    "            act = Q.pop(0)\n",
    "            if len(Q) == 0:\n",
    "                break\n",
    "            vert = id_vertex_dict[act]\n",
    "            for edge in vert.get_edges():\n",
    "                edge_end_point_id = edge.get_endpoint().get_ID()\n",
    "                if edge_end_point_id in Q:\n",
    "                    edge_weight = edge.get_weight()\n",
    "                    if edge_weight + info[act][\"weight\"] < info[edge_end_point_id][\"weight\"]:\n",
    "                        info[edge_end_point_id][\"weight\"] = edge_weight + info[act][\"weight\"]\n",
    "                        info[edge_end_point_id][\"id_path\"] = info[act][\"id_path\"] + [edge_end_point_id]    \n",
    "        return info"
   ]
  },
  {
   "attachments": {},
   "cell_type": "markdown",
   "metadata": {},
   "source": [
    "# testy"
   ]
  },
  {
   "cell_type": "code",
   "execution_count": 349,
   "metadata": {},
   "outputs": [
    {
     "name": "stdout",
     "output_type": "stream",
     "text": [
      "Value ['A', 'B', 'C']\n"
     ]
    },
    {
     "data": {
      "text/plain": [
       "{0: 'A', 1: 'B', 2: 'C'}"
      ]
     },
     "execution_count": 349,
     "metadata": {},
     "output_type": "execute_result"
    }
   ],
   "source": [
    "g = Graph()\n",
    "g.addVertex(\"A\")\n",
    "g.addVertex(\"B\")\n",
    "g.addVertex(\"C\")\n",
    "print(\"Value\", g.get_vertexs_values())\n",
    "g.get_id_names_maping()"
   ]
  },
  {
   "cell_type": "code",
   "execution_count": 350,
   "metadata": {},
   "outputs": [
    {
     "name": "stdout",
     "output_type": "stream",
     "text": [
      "ID: 0, value: A\n",
      "ID: 1, value: A\n",
      "ID: 2, value: C\n"
     ]
    },
    {
     "name": "stderr",
     "output_type": "stream",
     "text": [
      "/tmp/ipykernel_114223/3195591856.py:207: Warning: There are 2 vertex with the same value:A in the graph.\n",
      "  warnings.warn(f\"There are {len(self.name_id_dict[Vert.get_value()])} vertex with the same value:{Vert.get_value()} in the graph.\", Warning)\n"
     ]
    },
    {
     "data": {
      "text/plain": [
       "{0: ['A', 0], 1: ['A', 1], 2: 'C'}"
      ]
     },
     "execution_count": 350,
     "metadata": {},
     "output_type": "execute_result"
    }
   ],
   "source": [
    "g = Graph()\n",
    "g.addVertex(\"A\")\n",
    "g.addVertex(\"A\")\n",
    "g.addVertex(\"C\")\n",
    "for id, value in zip(g.get_vertex_id(), g.get_vertexs_values()):\n",
    "    print(f\"ID: {id}, value: {value}\")\n",
    "g.get_id_names_maping() #Duplicate values are represented as a tuple [\"Value\", \"order\"]"
   ]
  },
  {
   "cell_type": "code",
   "execution_count": 351,
   "metadata": {},
   "outputs": [
    {
     "name": "stdout",
     "output_type": "stream",
     "text": [
      "ID: 0, value: A\n",
      "ID: 1, value: B\n",
      "ID: 2, value: C\n"
     ]
    },
    {
     "data": {
      "text/plain": [
       "{0: 'A', 1: 'B', 2: 'C'}"
      ]
     },
     "execution_count": 351,
     "metadata": {},
     "output_type": "execute_result"
    }
   ],
   "source": [
    "g = Graph()\n",
    "g.addVerticesFromList([\"A\",\"B\",\"C\"])\n",
    "for id, value in zip(g.get_vertex_id(), g.get_vertexs_values()):\n",
    "    print(f\"ID: {id}, value: {value}\")\n",
    "g.get_id_names_maping() #Duplicate values are represented as a tuple [\"Value\", \"order\"]"
   ]
  },
  {
   "cell_type": "code",
   "execution_count": 352,
   "metadata": {},
   "outputs": [
    {
     "name": "stdout",
     "output_type": "stream",
     "text": [
      "Value ['A', 'B', 'C']\n"
     ]
    },
    {
     "data": {
      "text/plain": [
       "{(0, 1): <__main__.Edge at 0x7f2b9b152d50>,\n",
       " (1, 0): <__main__.Edge at 0x7f2b9b2973d0>,\n",
       " (1, 2): <__main__.Edge at 0x7f2b9b4d5950>,\n",
       " (2, 1): <__main__.Edge at 0x7f2b9b2959d0>,\n",
       " (2, 0): <__main__.Edge at 0x7f2b9b294550>,\n",
       " (0, 2): <__main__.Edge at 0x7f2b9b297a90>}"
      ]
     },
     "execution_count": 352,
     "metadata": {},
     "output_type": "execute_result"
    }
   ],
   "source": [
    "g = Graph()\n",
    "g.addVertex(\"A\")\n",
    "g.addVertex(\"B\")\n",
    "g.addVertex(\"C\")\n",
    "g.addEdge(\"A\",\"B\")\n",
    "g.addEdge(\"B\",\"C\")\n",
    "g.addEdge(\"C\",\"A\")\n",
    "\n",
    "print(\"Value\", g.get_vertexs_values())\n",
    "g.edges_by_id"
   ]
  },
  {
   "cell_type": "code",
   "execution_count": 339,
   "metadata": {},
   "outputs": [
    {
     "name": "stdout",
     "output_type": "stream",
     "text": [
      "Value ['A', 'B', 'C']\n"
     ]
    },
    {
     "name": "stderr",
     "output_type": "stream",
     "text": [
      "/tmp/ipykernel_114223/1445650704.py:261: Warning: You are trying to add an existing edge.\n",
      "  warnings.warn(\"You are trying to add an existing edge.\", Warning)\n",
      "/tmp/ipykernel_114223/1445650704.py:265: Warning: You updat the weight value of edge [fromVert, toVert].\n",
      "  warnings.warn(\"You updat the weight value of edge [fromVert, toVert].\", Warning)\n"
     ]
    },
    {
     "data": {
      "text/plain": [
       "{(0, 1): <__main__.Edge at 0x7f2b9b27b3d0>,\n",
       " (1, 0): <__main__.Edge at 0x7f2b9b2780d0>,\n",
       " (1, 2): <__main__.Edge at 0x7f2b9b279f10>,\n",
       " (2, 1): <__main__.Edge at 0x7f2b9b27a890>,\n",
       " (2, 0): <__main__.Edge at 0x7f2b9b2797d0>,\n",
       " (0, 2): <__main__.Edge at 0x7f2b9b27b110>}"
      ]
     },
     "execution_count": 339,
     "metadata": {},
     "output_type": "execute_result"
    }
   ],
   "source": [
    "g = Graph()\n",
    "g.addVertex(\"A\")\n",
    "g.addVertex(\"B\")\n",
    "g.addVertex(\"C\")\n",
    "g.addEdge(\"A\",\"B\")\n",
    "g.addEdge(\"B\",\"C\")\n",
    "g.addEdge(\"C\",\"A\",1)\n",
    "g.addEdge(\"C\",\"A\",2)\n",
    "\n",
    "print(\"Value\", g.get_vertexs_values())\n",
    "g.edges_by_id"
   ]
  },
  {
   "cell_type": "code",
   "execution_count": 340,
   "metadata": {},
   "outputs": [
    {
     "name": "stdout",
     "output_type": "stream",
     "text": [
      "ID: 0, value: A\n",
      "ID: 1, value: B\n",
      "ID: 2, value: C\n"
     ]
    },
    {
     "data": {
      "text/plain": [
       "{(0, 1): <__main__.Edge at 0x7f2b9b279490>,\n",
       " (1, 0): <__main__.Edge at 0x7f2b9b37cdd0>,\n",
       " (1, 2): <__main__.Edge at 0x7f2b9b278450>,\n",
       " (2, 1): <__main__.Edge at 0x7f2b9b2dec10>,\n",
       " (2, 0): <__main__.Edge at 0x7f2b9b2dd610>,\n",
       " (0, 2): <__main__.Edge at 0x7f2b9b2de610>}"
      ]
     },
     "execution_count": 340,
     "metadata": {},
     "output_type": "execute_result"
    }
   ],
   "source": [
    "g = Graph()\n",
    "g.addVertex(\"A\")\n",
    "g.addVertex(\"B\")\n",
    "g.addVertex(\"C\")\n",
    "g.addEdgesFromList([[\"A\",\"B\"],\n",
    "                    [\"B\",\"C\"],\n",
    "                    [\"C\",\"A\"]])\n",
    "\n",
    "for id, value in zip(g.get_vertex_id(), g.get_vertexs_values()):\n",
    "    print(f\"ID: {id}, value: {value}\")\n",
    "g.edges_by_id"
   ]
  },
  {
   "cell_type": "code",
   "execution_count": 341,
   "metadata": {},
   "outputs": [
    {
     "data": {
      "text/plain": [
       "[['A', <__main__.Vertex at 0x7f2b9b250a10>],\n",
       " ['B', <__main__.Vertex at 0x7f2b9b2dd210>],\n",
       " ['C', <__main__.Vertex at 0x7f2b9b678610>]]"
      ]
     },
     "execution_count": 341,
     "metadata": {},
     "output_type": "execute_result"
    }
   ],
   "source": [
    "g = Graph()\n",
    "g.addVertex(\"A\")\n",
    "g.addVertex(\"B\")\n",
    "g.addVertex(\"C\")\n",
    "g.addEdgesFromList([[\"A\",\"B\"],\n",
    "                    [\"B\",\"C\"],\n",
    "                    [\"C\",\"A\"]])\n",
    "[[vert.get_value(), vert] for vert in g.getVertices()]"
   ]
  },
  {
   "cell_type": "code",
   "execution_count": 342,
   "metadata": {},
   "outputs": [
    {
     "data": {
      "text/plain": [
       "[[['A', 'B'], <__main__.Edge at 0x7f2b9b16ff10>],\n",
       " [['B', 'A'], <__main__.Edge at 0x7f2b9b16c510>],\n",
       " [['B', 'C'], <__main__.Edge at 0x7f2b9b16e5d0>],\n",
       " [['C', 'B'], <__main__.Edge at 0x7f2b9b16c5d0>],\n",
       " [['C', 'A'], <__main__.Edge at 0x7f2b9b16cc90>],\n",
       " [['A', 'C'], <__main__.Edge at 0x7f2b9b16c650>]]"
      ]
     },
     "execution_count": 342,
     "metadata": {},
     "output_type": "execute_result"
    }
   ],
   "source": [
    "g = Graph()\n",
    "g.addVertex(\"A\")\n",
    "g.addVertex(\"B\")\n",
    "g.addVertex(\"C\")\n",
    "g.addEdgesFromList([[\"A\",\"B\"],\n",
    "                    [\"B\",\"C\"],\n",
    "                    [\"C\",\"A\"]])\n",
    "[[edge.get_values(),edge] for edge in g.getEdges()]\n"
   ]
  },
  {
   "cell_type": "code",
   "execution_count": 343,
   "metadata": {},
   "outputs": [
    {
     "data": {
      "text/plain": [
       "[['B', <__main__.Vertex at 0x7f2b9b16dad0>],\n",
       " ['C', <__main__.Vertex at 0x7f2b9b16cf50>]]"
      ]
     },
     "execution_count": 343,
     "metadata": {},
     "output_type": "execute_result"
    }
   ],
   "source": [
    "g = Graph()\n",
    "g.addVertex(\"A\")\n",
    "g.addVertex(\"B\")\n",
    "g.addVertex(\"C\")\n",
    "g.addEdgesFromList([[\"A\",\"B\"],\n",
    "                    [\"B\",\"C\"],\n",
    "                    [\"C\",\"A\"]])\n",
    "[[vert.get_value(), vert ] for vert in g.getNeighbors(\"A\")]"
   ]
  },
  {
   "cell_type": "code",
   "execution_count": 344,
   "metadata": {},
   "outputs": [
    {
     "data": {
      "text/plain": [
       "(True, True, False)"
      ]
     },
     "execution_count": 344,
     "metadata": {},
     "output_type": "execute_result"
    }
   ],
   "source": [
    "g = Graph()\n",
    "g.addVertex(\"A\")\n",
    "g.addVertex(\"B\")\n",
    "g.addVertex(\"C\")\n",
    "g.addEdgesFromList([[\"A\",\"B\"],\n",
    "                    [\"B\",\"C\"],\n",
    "                    [\"C\",\"A\"]])\n",
    "\n",
    "\"A\" in g, \"B\" in g, \"D\" in g"
   ]
  },
  {
   "cell_type": "code",
   "execution_count": 345,
   "metadata": {},
   "outputs": [],
   "source": [
    "g = Graph()\n",
    "\n",
    "g.addEdgesFromList([[\"Alice\",\"Bob\"],\n",
    "                    [\"Bob\",\"Gail\"],\n",
    "                    [\"Irene\",\"Gail\"],\n",
    "                    [\"Carl\",\"Alice\"],\n",
    "                    [\"Gail\",\"Harry\"],\n",
    "                    [\"Irene\",\"Jen\"],\n",
    "                    [\"Alice\",\"David\"],\n",
    "                    [\"Harry\",\"Jen\"],\n",
    "                    [\"Ernst\",\"Frank\"],\n",
    "                    [\"Alice\",\"Ernst\"],\n",
    "                    [\"Jen\",\"Gail\"],\n",
    "                    [\"David\",\"Carl\"],\n",
    "                    [\"Alice\",\"Frank\"],\n",
    "                    [\"Harry\",\"Irene\"],\n",
    "                    [\"Carl\",\"Frank\"]])\n",
    "Graph.saveGraph(g)"
   ]
  },
  {
   "cell_type": "code",
   "execution_count": 346,
   "metadata": {},
   "outputs": [
    {
     "name": "stdout",
     "output_type": "stream",
     "text": [
      "ID: 0, value: Alice\n",
      "ID: 1, value: Bob\n",
      "ID: 2, value: Gail\n",
      "ID: 3, value: Irene\n",
      "ID: 4, value: Carl\n",
      "ID: 5, value: Harry\n",
      "ID: 6, value: Jen\n",
      "ID: 7, value: David\n",
      "ID: 8, value: Ernst\n",
      "ID: 9, value: Frank\n",
      "[0, 1, 2, 3, 4, 5, 6, 7, 8, 9]\n"
     ]
    },
    {
     "data": {
      "text/plain": [
       "{0: {'vertex': 'Alice', 'id_path': [0], 'weight': 0},\n",
       " 1: {'vertex': 'Bob', 'id_path': [0, 1], 'weight': 1},\n",
       " 2: {'vertex': 'Gail', 'id_path': [0, 1, 2], 'weight': 2},\n",
       " 3: {'vertex': 'Irene', 'id_path': [0, 1, 2, 3], 'weight': 3},\n",
       " 4: {'vertex': 'Carl', 'id_path': [0, 4], 'weight': 1},\n",
       " 5: {'vertex': 'Harry', 'id_path': [0, 1, 2, 5], 'weight': 3},\n",
       " 6: {'vertex': 'Jen', 'id_path': [0, 1, 2, 6], 'weight': 3},\n",
       " 7: {'vertex': 'David', 'id_path': [0, 7], 'weight': 1},\n",
       " 8: {'vertex': 'Ernst', 'id_path': [0, 8], 'weight': 1},\n",
       " 9: {'vertex': 'Frank', 'id_path': [0, 9], 'weight': 1}}"
      ]
     },
     "execution_count": 346,
     "metadata": {},
     "output_type": "execute_result"
    }
   ],
   "source": [
    "g = Graph()\n",
    "\n",
    "g.addEdgesFromList([[\"Alice\",\"Bob\"],\n",
    "                    [\"Bob\",\"Gail\"],\n",
    "                    [\"Irene\",\"Gail\"],\n",
    "                    [\"Carl\",\"Alice\"],\n",
    "                    [\"Gail\",\"Harry\"],\n",
    "                    [\"Irene\",\"Jen\"],\n",
    "                    [\"Alice\",\"David\"],\n",
    "                    [\"Harry\",\"Jen\"],\n",
    "                    [\"Ernst\",\"Frank\"],\n",
    "                    [\"Alice\",\"Ernst\"],\n",
    "                    [\"Jen\",\"Gail\"],\n",
    "                    [\"David\",\"Carl\"],\n",
    "                    [\"Alice\",\"Frank\"],\n",
    "                    [\"Harry\",\"Irene\"],\n",
    "                    [\"Carl\",\"Frank\"]])\n",
    "for id, value in zip(g.get_vertex_id(), g.get_vertexs_values()):\n",
    "    print(f\"ID: {id}, value: {value}\")\n",
    "g.getShortestPaths(\"Alice\")"
   ]
  },
  {
   "cell_type": "code",
   "execution_count": 355,
   "metadata": {},
   "outputs": [
    {
     "data": {
      "text/plain": [
       "{0: {'vertex': '0', 'id_path': [1, 0], 'weight': 4},\n",
       " 1: {'vertex': '1', 'id_path': [1], 'weight': 0},\n",
       " 2: {'vertex': '2', 'id_path': [1, 2], 'weight': 1},\n",
       " 3: {'vertex': '3', 'id_path': [1, 2, 3], 'weight': 2},\n",
       " 4: {'vertex': '4', 'id_path': [1, 2, 3, 4], 'weight': 3},\n",
       " 5: {'vertex': '5', 'id_path': [1, 2, 3, 4, 5], 'weight': 4}}"
      ]
     },
     "execution_count": 355,
     "metadata": {},
     "output_type": "execute_result"
    }
   ],
   "source": [
    "\n",
    "g = Graph()\n",
    "g.addEdgesFromList([[\"0\",\"1\",4],\n",
    "                    [\"2\",\"3\",1],\n",
    "                    [\"3\",\"4\",1],\n",
    "                    [\"4\",\"5\",1],\n",
    "                    [\"0\",\"3\",5],\n",
    "                    [\"0\",\"5\",20],\n",
    "                    [\"1\",\"2\",1],\n",
    "                    [\"2\",\"4\",15]\n",
    "                    ])\n",
    "g.getShortestPaths(\"1\")"
   ]
  }
 ],
 "metadata": {
  "kernelspec": {
   "display_name": "Python 3",
   "language": "python",
   "name": "python3"
  },
  "language_info": {
   "codemirror_mode": {
    "name": "ipython",
    "version": 3
   },
   "file_extension": ".py",
   "mimetype": "text/x-python",
   "name": "python",
   "nbconvert_exporter": "python",
   "pygments_lexer": "ipython3",
   "version": "3.11.0rc1"
  },
  "orig_nbformat": 4,
  "vscode": {
   "interpreter": {
    "hash": "ead1b95f633dc9c51826328e1846203f51a198c6fb5f2884a80417ba131d4e82"
   }
  }
 },
 "nbformat": 4,
 "nbformat_minor": 2
}
